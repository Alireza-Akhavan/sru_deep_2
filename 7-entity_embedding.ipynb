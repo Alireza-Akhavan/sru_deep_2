{
  "nbformat": 4,
  "nbformat_minor": 0,
  "metadata": {
    "colab": {
      "provenance": [],
      "gpuType": "T4"
    },
    "kernelspec": {
      "name": "python3",
      "display_name": "Python 3"
    },
    "language_info": {
      "name": "python"
    },
    "accelerator": "GPU"
  },
  "cells": [
    {
      "cell_type": "code",
      "source": [
        "!mkdir ~/.kaggle\n",
        "!mv kaggle.json ~/.kaggle"
      ],
      "metadata": {
        "id": "9FSoKRLSvwIt"
      },
      "execution_count": null,
      "outputs": []
    },
    {
      "cell_type": "code",
      "source": [
        "!kaggle competitions download -c bike-sharing-demand"
      ],
      "metadata": {
        "id": "dV0maTCfvvNE"
      },
      "execution_count": null,
      "outputs": []
    },
    {
      "cell_type": "code",
      "source": [
        "!unzip bike-sharing-demand.zip"
      ],
      "metadata": {
        "id": "lM7HX1-8wG9y"
      },
      "execution_count": null,
      "outputs": []
    },
    {
      "cell_type": "code",
      "source": [
        "import numpy as np\n",
        "import pandas as pd\n",
        "import tensorflow as tf\n",
        "from tensorflow import keras\n",
        "from sklearn.model_selection import train_test_split\n",
        "from sklearn.preprocessing import LabelEncoder, StandardScaler\n",
        "from tensorflow.keras.layers import Input, Embedding, Flatten, concatenate, Dense, Dropout\n",
        "from tensorflow.keras.models import Model"
      ],
      "metadata": {
        "id": "dw4LLdiNwP4m"
      },
      "execution_count": 4,
      "outputs": []
    },
    {
      "cell_type": "code",
      "source": [
        "# Load the Bike Sharing Demand dataset\n",
        "df = pd.read_csv(\"train.csv\")"
      ],
      "metadata": {
        "id": "KWWvFjT_wWqL"
      },
      "execution_count": 5,
      "outputs": []
    },
    {
      "cell_type": "code",
      "source": [
        "# Preprocess the dataset (you may need to do more data cleaning and feature engineering)\n",
        "df[\"datetime\"] = pd.to_datetime(df[\"datetime\"])\n",
        "df[\"day_of_week\"] = df[\"datetime\"].dt.dayofweek\n",
        "features = [\"day_of_week\", \"temp\", \"humidity\", \"windspeed\", \"count\"]\n",
        "df = df[features]"
      ],
      "metadata": {
        "id": "vqgFQ5ov62oY"
      },
      "execution_count": 6,
      "outputs": []
    },
    {
      "cell_type": "code",
      "source": [
        "# Split the dataset into training and testing sets\n",
        "X = df.drop(\"count\", axis=1)\n",
        "y = df[\"count\"]"
      ],
      "metadata": {
        "id": "WZWbcqtP7GVA"
      },
      "execution_count": 7,
      "outputs": []
    },
    {
      "cell_type": "code",
      "source": [
        "X_train, X_test, y_train, y_test = train_test_split(X, y, test_size=0.2, random_state=42)"
      ],
      "metadata": {
        "id": "jVTgq3_n7ILi"
      },
      "execution_count": 8,
      "outputs": []
    },
    {
      "cell_type": "code",
      "source": [
        "# Scale numerical features\n",
        "scaler_temp = StandardScaler()\n",
        "scaler_humidity = StandardScaler()\n",
        "scaler_windspeed = StandardScaler()\n",
        "\n",
        "X_train[[\"temp\"]] = scaler_temp.fit_transform(X_train[[\"temp\"]])\n",
        "X_train[[\"humidity\"]] = scaler_humidity.fit_transform(X_train[[\"humidity\"]])\n",
        "X_train[[\"windspeed\"]] = scaler_windspeed.fit_transform(X_train[[\"windspeed\"]])\n",
        "\n",
        "X_test[[\"temp\"]] = scaler_temp.transform(X_test[[\"temp\"]])\n",
        "X_test[[\"humidity\"]] = scaler_humidity.transform(X_test[[\"humidity\"]])\n",
        "X_test[[\"windspeed\"]] = scaler_windspeed.transform(X_test[[\"windspeed\"]])"
      ],
      "metadata": {
        "id": "_BiKGGyA7IgG"
      },
      "execution_count": 9,
      "outputs": []
    },
    {
      "cell_type": "code",
      "source": [
        "# Scale target\n",
        "m = y_train.max()\n",
        "y_train = y_train /m\n",
        "y_test = y_test /m"
      ],
      "metadata": {
        "id": "grUQtYsO7cZg"
      },
      "execution_count": 10,
      "outputs": []
    },
    {
      "cell_type": "code",
      "source": [
        "# Define input layers for categorical variables\n",
        "input_day_of_week = Input(shape=(1,))\n",
        "\n",
        "# Define embedding layers for categorical variables\n",
        "embedding_dim = 3  # You can adjust this dimension\n",
        "embedding_day_of_week = Embedding(input_dim=7, output_dim=embedding_dim)(input_day_of_week)  # 7 days in a week\n",
        "\n",
        "# Flatten the embedding layer\n",
        "flatten_day_of_week = Flatten()(embedding_day_of_week)\n",
        "\n",
        "# Define input layer for numerical variables\n",
        "input_numerical = Input(shape=(X_train.shape[1] - 1,))  # Minus 1 for the categorical input\n",
        "\n",
        "# Concatenate all input layers\n",
        "concatenated = concatenate([flatten_day_of_week, input_numerical])\n",
        "\n",
        "# Build the model\n",
        "x = Dense(64, activation=\"relu\")(concatenated)\n",
        "x = Dropout(0.5)(x)\n",
        "output = Dense(1, activation=\"linear\")(x)  # Linear activation for regression task\n",
        "\n",
        "model = Model(inputs=[input_day_of_week, input_numerical], outputs=output)\n"
      ],
      "metadata": {
        "id": "FqmIzXOH7Yg1"
      },
      "execution_count": 50,
      "outputs": []
    },
    {
      "cell_type": "code",
      "source": [
        "tf.keras.utils.plot_model(model, show_shapes=True)"
      ],
      "metadata": {
        "colab": {
          "base_uri": "https://localhost:8080/",
          "height": 754
        },
        "id": "iGQB1M887yL7",
        "outputId": "03e41c72-7d9f-4a98-ac46-16ea11c87dc8"
      },
      "execution_count": 51,
      "outputs": [
        {
          "output_type": "execute_result",
          "data": {
            "image/png": "[encoded data removed]",
            "text/plain": [
              "<IPython.core.display.Image object>"
            ]
          },
          "metadata": {},
          "execution_count": 51
        }
      ]
    },
    {
      "cell_type": "code",
      "source": [
        "from keras.callbacks import ReduceLROnPlateau\n",
        "\n",
        "# Define the callback\n",
        "reduce_lr = ReduceLROnPlateau(monitor='val_loss', factor=0.5, patience=30)\n",
        "\n",
        "# Compile the model\n",
        "model.compile(optimizer=\"RMSprop\", loss=\"mean_squared_error\", metrics=[\"mae\"])\n",
        "\n",
        "# Train the model\n",
        "h = model.fit(\n",
        "    [X_train[\"day_of_week\"], X_train[[\"temp\", \"humidity\", \"windspeed\"]]],\n",
        "    y_train,\n",
        "    callbacks= [reduce_lr],\n",
        "    epochs=300,\n",
        "    batch_size=512,\n",
        "    validation_split=0.1)"
      ],
      "metadata": {
        "colab": {
          "base_uri": "https://localhost:8080/"
        },
        "id": "cHoQrpKx74oI",
        "outputId": "2b99eac4-b5f7-4b3e-ff98-bd252caa2056"
      },
      "execution_count": 52,
      "outputs": [
        {
          "output_type": "stream",
          "name": "stdout",
          "text": [
            "Epoch 1/300\n",
            "16/16 [==============================] - 2s 21ms/step - loss: 0.1439 - mae: 0.2940 - val_loss: 0.0401 - val_mae: 0.1455 - lr: 0.0010\n",
            "Epoch 2/300\n",
            "16/16 [==============================] - 0s 8ms/step - loss: 0.1019 - mae: 0.2479 - val_loss: 0.0319 - val_mae: 0.1331 - lr: 0.0010\n",
            "Epoch 3/300\n",
            "16/16 [==============================] - 0s 7ms/step - loss: 0.0799 - mae: 0.2188 - val_loss: 0.0297 - val_mae: 0.1295 - lr: 0.0010\n",
            "Epoch 4/300\n",
            "16/16 [==============================] - 0s 5ms/step - loss: 0.0658 - mae: 0.1965 - val_loss: 0.0289 - val_mae: 0.1277 - lr: 0.0010\n",
            "Epoch 5/300\n",
            "16/16 [==============================] - 0s 6ms/step - loss: 0.0558 - mae: 0.1806 - val_loss: 0.0278 - val_mae: 0.1262 - lr: 0.0010\n",
            "Epoch 6/300\n",
            "16/16 [==============================] - 0s 6ms/step - loss: 0.0465 - mae: 0.1654 - val_loss: 0.0273 - val_mae: 0.1249 - lr: 0.0010\n",
            "Epoch 7/300\n",
            "16/16 [==============================] - 0s 7ms/step - loss: 0.0409 - mae: 0.1540 - val_loss: 0.0270 - val_mae: 0.1245 - lr: 0.0010\n",
            "Epoch 8/300\n",
            "16/16 [==============================] - 0s 5ms/step - loss: 0.0359 - mae: 0.1444 - val_loss: 0.0268 - val_mae: 0.1240 - lr: 0.0010\n",
            "Epoch 9/300\n",
            "16/16 [==============================] - 0s 8ms/step - loss: 0.0333 - mae: 0.1373 - val_loss: 0.0269 - val_mae: 0.1268 - lr: 0.0010\n",
            "Epoch 10/300\n",
            "16/16 [==============================] - 0s 14ms/step - loss: 0.0312 - mae: 0.1327 - val_loss: 0.0266 - val_mae: 0.1224 - lr: 0.0010\n",
            "Epoch 11/300\n",
            "16/16 [==============================] - 0s 13ms/step - loss: 0.0297 - mae: 0.1288 - val_loss: 0.0265 - val_mae: 0.1231 - lr: 0.0010\n",
            "Epoch 12/300\n",
            "16/16 [==============================] - 0s 14ms/step - loss: 0.0282 - mae: 0.1260 - val_loss: 0.0268 - val_mae: 0.1259 - lr: 0.0010\n",
            "Epoch 13/300\n",
            "16/16 [==============================] - 0s 14ms/step - loss: 0.0280 - mae: 0.1261 - val_loss: 0.0266 - val_mae: 0.1215 - lr: 0.0010\n",
            "Epoch 14/300\n",
            "16/16 [==============================] - 0s 12ms/step - loss: 0.0277 - mae: 0.1242 - val_loss: 0.0264 - val_mae: 0.1241 - lr: 0.0010\n",
            "Epoch 15/300\n",
            "16/16 [==============================] - 0s 9ms/step - loss: 0.0275 - mae: 0.1246 - val_loss: 0.0266 - val_mae: 0.1253 - lr: 0.0010\n",
            "Epoch 16/300\n",
            "16/16 [==============================] - 0s 10ms/step - loss: 0.0271 - mae: 0.1232 - val_loss: 0.0264 - val_mae: 0.1242 - lr: 0.0010\n",
            "Epoch 17/300\n",
            "16/16 [==============================] - 0s 9ms/step - loss: 0.0270 - mae: 0.1228 - val_loss: 0.0264 - val_mae: 0.1239 - lr: 0.0010\n",
            "Epoch 18/300\n",
            "16/16 [==============================] - 0s 10ms/step - loss: 0.0267 - mae: 0.1222 - val_loss: 0.0265 - val_mae: 0.1237 - lr: 0.0010\n",
            "Epoch 19/300\n",
            "16/16 [==============================] - 0s 11ms/step - loss: 0.0266 - mae: 0.1225 - val_loss: 0.0264 - val_mae: 0.1238 - lr: 0.0010\n",
            "Epoch 20/300\n",
            "16/16 [==============================] - 0s 11ms/step - loss: 0.0265 - mae: 0.1223 - val_loss: 0.0264 - val_mae: 0.1234 - lr: 0.0010\n",
            "Epoch 21/300\n",
            "16/16 [==============================] - 0s 9ms/step - loss: 0.0266 - mae: 0.1223 - val_loss: 0.0264 - val_mae: 0.1234 - lr: 0.0010\n",
            "Epoch 22/300\n",
            "16/16 [==============================] - 0s 9ms/step - loss: 0.0264 - mae: 0.1218 - val_loss: 0.0263 - val_mae: 0.1227 - lr: 0.0010\n",
            "Epoch 23/300\n",
            "16/16 [==============================] - 0s 13ms/step - loss: 0.0264 - mae: 0.1220 - val_loss: 0.0263 - val_mae: 0.1237 - lr: 0.0010\n",
            "Epoch 24/300\n",
            "16/16 [==============================] - 0s 10ms/step - loss: 0.0263 - mae: 0.1216 - val_loss: 0.0265 - val_mae: 0.1259 - lr: 0.0010\n",
            "Epoch 25/300\n",
            "16/16 [==============================] - 0s 10ms/step - loss: 0.0263 - mae: 0.1218 - val_loss: 0.0263 - val_mae: 0.1237 - lr: 0.0010\n",
            "Epoch 26/300\n",
            "16/16 [==============================] - 0s 9ms/step - loss: 0.0263 - mae: 0.1218 - val_loss: 0.0263 - val_mae: 0.1243 - lr: 0.0010\n",
            "Epoch 27/300\n",
            "16/16 [==============================] - 0s 10ms/step - loss: 0.0265 - mae: 0.1223 - val_loss: 0.0263 - val_mae: 0.1230 - lr: 0.0010\n",
            "Epoch 28/300\n",
            "16/16 [==============================] - 0s 9ms/step - loss: 0.0262 - mae: 0.1214 - val_loss: 0.0263 - val_mae: 0.1225 - lr: 0.0010\n",
            "Epoch 29/300\n",
            "16/16 [==============================] - 0s 7ms/step - loss: 0.0264 - mae: 0.1216 - val_loss: 0.0263 - val_mae: 0.1232 - lr: 0.0010\n",
            "Epoch 30/300\n",
            "16/16 [==============================] - 0s 6ms/step - loss: 0.0261 - mae: 0.1208 - val_loss: 0.0263 - val_mae: 0.1240 - lr: 0.0010\n",
            "Epoch 31/300\n",
            "16/16 [==============================] - 0s 6ms/step - loss: 0.0263 - mae: 0.1218 - val_loss: 0.0262 - val_mae: 0.1226 - lr: 0.0010\n",
            "Epoch 32/300\n",
            "16/16 [==============================] - 0s 6ms/step - loss: 0.0261 - mae: 0.1208 - val_loss: 0.0262 - val_mae: 0.1229 - lr: 0.0010\n",
            "Epoch 33/300\n",
            "16/16 [==============================] - 0s 7ms/step - loss: 0.0262 - mae: 0.1213 - val_loss: 0.0261 - val_mae: 0.1234 - lr: 0.0010\n",
            "Epoch 34/300\n",
            "16/16 [==============================] - 0s 7ms/step - loss: 0.0262 - mae: 0.1213 - val_loss: 0.0262 - val_mae: 0.1237 - lr: 0.0010\n",
            "Epoch 35/300\n",
            "16/16 [==============================] - 0s 6ms/step - loss: 0.0261 - mae: 0.1212 - val_loss: 0.0261 - val_mae: 0.1234 - lr: 0.0010\n",
            "Epoch 36/300\n",
            "16/16 [==============================] - 0s 6ms/step - loss: 0.0261 - mae: 0.1210 - val_loss: 0.0261 - val_mae: 0.1239 - lr: 0.0010\n",
            "Epoch 37/300\n",
            "16/16 [==============================] - 0s 6ms/step - loss: 0.0261 - mae: 0.1213 - val_loss: 0.0262 - val_mae: 0.1236 - lr: 0.0010\n",
            "Epoch 38/300\n",
            "16/16 [==============================] - 0s 6ms/step - loss: 0.0260 - mae: 0.1209 - val_loss: 0.0261 - val_mae: 0.1232 - lr: 0.0010\n",
            "Epoch 39/300\n",
            "16/16 [==============================] - 0s 5ms/step - loss: 0.0261 - mae: 0.1213 - val_loss: 0.0261 - val_mae: 0.1230 - lr: 0.0010\n",
            "Epoch 40/300\n",
            "16/16 [==============================] - 0s 6ms/step - loss: 0.0259 - mae: 0.1208 - val_loss: 0.0262 - val_mae: 0.1242 - lr: 0.0010\n",
            "Epoch 41/300\n",
            "16/16 [==============================] - 0s 7ms/step - loss: 0.0258 - mae: 0.1205 - val_loss: 0.0263 - val_mae: 0.1253 - lr: 0.0010\n",
            "Epoch 42/300\n",
            "16/16 [==============================] - 0s 5ms/step - loss: 0.0261 - mae: 0.1209 - val_loss: 0.0261 - val_mae: 0.1229 - lr: 0.0010\n",
            "Epoch 43/300\n",
            "16/16 [==============================] - 0s 6ms/step - loss: 0.0260 - mae: 0.1209 - val_loss: 0.0261 - val_mae: 0.1232 - lr: 0.0010\n",
            "Epoch 44/300\n",
            "16/16 [==============================] - 0s 6ms/step - loss: 0.0259 - mae: 0.1204 - val_loss: 0.0263 - val_mae: 0.1241 - lr: 0.0010\n",
            "Epoch 45/300\n",
            "16/16 [==============================] - 0s 7ms/step - loss: 0.0259 - mae: 0.1207 - val_loss: 0.0262 - val_mae: 0.1241 - lr: 0.0010\n",
            "Epoch 46/300\n",
            "16/16 [==============================] - 0s 5ms/step - loss: 0.0259 - mae: 0.1203 - val_loss: 0.0261 - val_mae: 0.1233 - lr: 0.0010\n",
            "Epoch 47/300\n",
            "16/16 [==============================] - 0s 8ms/step - loss: 0.0260 - mae: 0.1208 - val_loss: 0.0260 - val_mae: 0.1229 - lr: 0.0010\n",
            "Epoch 48/300\n",
            "16/16 [==============================] - 0s 10ms/step - loss: 0.0259 - mae: 0.1207 - val_loss: 0.0260 - val_mae: 0.1226 - lr: 0.0010\n",
            "Epoch 49/300\n",
            "16/16 [==============================] - 0s 8ms/step - loss: 0.0259 - mae: 0.1201 - val_loss: 0.0260 - val_mae: 0.1226 - lr: 0.0010\n",
            "Epoch 50/300\n",
            "16/16 [==============================] - 0s 8ms/step - loss: 0.0257 - mae: 0.1199 - val_loss: 0.0260 - val_mae: 0.1224 - lr: 0.0010\n",
            "Epoch 51/300\n",
            "16/16 [==============================] - 0s 8ms/step - loss: 0.0258 - mae: 0.1200 - val_loss: 0.0259 - val_mae: 0.1227 - lr: 0.0010\n",
            "Epoch 52/300\n",
            "16/16 [==============================] - 0s 8ms/step - loss: 0.0259 - mae: 0.1204 - val_loss: 0.0260 - val_mae: 0.1239 - lr: 0.0010\n",
            "Epoch 53/300\n",
            "16/16 [==============================] - 0s 8ms/step - loss: 0.0259 - mae: 0.1208 - val_loss: 0.0259 - val_mae: 0.1218 - lr: 0.0010\n",
            "Epoch 54/300\n",
            "16/16 [==============================] - 0s 9ms/step - loss: 0.0260 - mae: 0.1207 - val_loss: 0.0259 - val_mae: 0.1235 - lr: 0.0010\n",
            "Epoch 55/300\n",
            "16/16 [==============================] - 0s 9ms/step - loss: 0.0257 - mae: 0.1199 - val_loss: 0.0258 - val_mae: 0.1225 - lr: 0.0010\n",
            "Epoch 56/300\n",
            "16/16 [==============================] - 0s 8ms/step - loss: 0.0257 - mae: 0.1203 - val_loss: 0.0259 - val_mae: 0.1220 - lr: 0.0010\n",
            "Epoch 57/300\n",
            "16/16 [==============================] - 0s 8ms/step - loss: 0.0256 - mae: 0.1199 - val_loss: 0.0258 - val_mae: 0.1220 - lr: 0.0010\n",
            "Epoch 58/300\n",
            "16/16 [==============================] - 0s 8ms/step - loss: 0.0259 - mae: 0.1203 - val_loss: 0.0259 - val_mae: 0.1220 - lr: 0.0010\n",
            "Epoch 59/300\n",
            "16/16 [==============================] - 0s 8ms/step - loss: 0.0258 - mae: 0.1205 - val_loss: 0.0258 - val_mae: 0.1234 - lr: 0.0010\n",
            "Epoch 60/300\n",
            "16/16 [==============================] - 0s 8ms/step - loss: 0.0256 - mae: 0.1198 - val_loss: 0.0262 - val_mae: 0.1258 - lr: 0.0010\n",
            "Epoch 61/300\n",
            "16/16 [==============================] - 0s 8ms/step - loss: 0.0257 - mae: 0.1203 - val_loss: 0.0260 - val_mae: 0.1233 - lr: 0.0010\n",
            "Epoch 62/300\n",
            "16/16 [==============================] - 0s 9ms/step - loss: 0.0257 - mae: 0.1200 - val_loss: 0.0260 - val_mae: 0.1243 - lr: 0.0010\n",
            "Epoch 63/300\n",
            "16/16 [==============================] - 0s 8ms/step - loss: 0.0258 - mae: 0.1203 - val_loss: 0.0258 - val_mae: 0.1232 - lr: 0.0010\n",
            "Epoch 64/300\n",
            "16/16 [==============================] - 0s 9ms/step - loss: 0.0257 - mae: 0.1197 - val_loss: 0.0259 - val_mae: 0.1248 - lr: 0.0010\n",
            "Epoch 65/300\n",
            "16/16 [==============================] - 0s 8ms/step - loss: 0.0257 - mae: 0.1201 - val_loss: 0.0260 - val_mae: 0.1248 - lr: 0.0010\n",
            "Epoch 66/300\n",
            "16/16 [==============================] - 0s 8ms/step - loss: 0.0257 - mae: 0.1204 - val_loss: 0.0257 - val_mae: 0.1234 - lr: 0.0010\n",
            "Epoch 67/300\n",
            "16/16 [==============================] - 0s 8ms/step - loss: 0.0255 - mae: 0.1196 - val_loss: 0.0259 - val_mae: 0.1244 - lr: 0.0010\n",
            "Epoch 68/300\n",
            "16/16 [==============================] - 0s 10ms/step - loss: 0.0257 - mae: 0.1204 - val_loss: 0.0259 - val_mae: 0.1233 - lr: 0.0010\n",
            "Epoch 69/300\n",
            "16/16 [==============================] - 0s 9ms/step - loss: 0.0256 - mae: 0.1200 - val_loss: 0.0258 - val_mae: 0.1222 - lr: 0.0010\n",
            "Epoch 70/300\n",
            "16/16 [==============================] - 0s 8ms/step - loss: 0.0256 - mae: 0.1193 - val_loss: 0.0257 - val_mae: 0.1230 - lr: 0.0010\n",
            "Epoch 71/300\n",
            "16/16 [==============================] - 0s 6ms/step - loss: 0.0257 - mae: 0.1202 - val_loss: 0.0257 - val_mae: 0.1228 - lr: 0.0010\n",
            "Epoch 72/300\n",
            "16/16 [==============================] - 0s 6ms/step - loss: 0.0256 - mae: 0.1198 - val_loss: 0.0256 - val_mae: 0.1226 - lr: 0.0010\n",
            "Epoch 73/300\n",
            "16/16 [==============================] - 0s 7ms/step - loss: 0.0257 - mae: 0.1200 - val_loss: 0.0257 - val_mae: 0.1218 - lr: 0.0010\n",
            "Epoch 74/300\n",
            "16/16 [==============================] - 0s 6ms/step - loss: 0.0257 - mae: 0.1199 - val_loss: 0.0257 - val_mae: 0.1212 - lr: 0.0010\n",
            "Epoch 75/300\n",
            "16/16 [==============================] - 0s 5ms/step - loss: 0.0255 - mae: 0.1197 - val_loss: 0.0261 - val_mae: 0.1248 - lr: 0.0010\n",
            "Epoch 76/300\n",
            "16/16 [==============================] - 0s 6ms/step - loss: 0.0257 - mae: 0.1198 - val_loss: 0.0259 - val_mae: 0.1242 - lr: 0.0010\n",
            "Epoch 77/300\n",
            "16/16 [==============================] - 0s 6ms/step - loss: 0.0255 - mae: 0.1197 - val_loss: 0.0256 - val_mae: 0.1226 - lr: 0.0010\n",
            "Epoch 78/300\n",
            "16/16 [==============================] - 0s 6ms/step - loss: 0.0256 - mae: 0.1201 - val_loss: 0.0261 - val_mae: 0.1253 - lr: 0.0010\n",
            "Epoch 79/300\n",
            "16/16 [==============================] - 0s 6ms/step - loss: 0.0257 - mae: 0.1203 - val_loss: 0.0259 - val_mae: 0.1238 - lr: 0.0010\n",
            "Epoch 80/300\n",
            "16/16 [==============================] - 0s 5ms/step - loss: 0.0259 - mae: 0.1207 - val_loss: 0.0257 - val_mae: 0.1222 - lr: 0.0010\n",
            "Epoch 81/300\n",
            "16/16 [==============================] - 0s 5ms/step - loss: 0.0257 - mae: 0.1199 - val_loss: 0.0259 - val_mae: 0.1243 - lr: 0.0010\n",
            "Epoch 82/300\n",
            "16/16 [==============================] - 0s 5ms/step - loss: 0.0257 - mae: 0.1203 - val_loss: 0.0257 - val_mae: 0.1221 - lr: 0.0010\n",
            "Epoch 83/300\n",
            "16/16 [==============================] - 0s 7ms/step - loss: 0.0256 - mae: 0.1193 - val_loss: 0.0260 - val_mae: 0.1244 - lr: 0.0010\n",
            "Epoch 84/300\n",
            "16/16 [==============================] - 0s 5ms/step - loss: 0.0256 - mae: 0.1199 - val_loss: 0.0257 - val_mae: 0.1227 - lr: 0.0010\n",
            "Epoch 85/300\n",
            "16/16 [==============================] - 0s 6ms/step - loss: 0.0257 - mae: 0.1197 - val_loss: 0.0258 - val_mae: 0.1234 - lr: 0.0010\n",
            "Epoch 86/300\n",
            "16/16 [==============================] - 0s 5ms/step - loss: 0.0258 - mae: 0.1203 - val_loss: 0.0258 - val_mae: 0.1235 - lr: 0.0010\n",
            "Epoch 87/300\n",
            "16/16 [==============================] - 0s 6ms/step - loss: 0.0258 - mae: 0.1205 - val_loss: 0.0257 - val_mae: 0.1222 - lr: 0.0010\n",
            "Epoch 88/300\n",
            "16/16 [==============================] - 0s 6ms/step - loss: 0.0256 - mae: 0.1197 - val_loss: 0.0257 - val_mae: 0.1234 - lr: 0.0010\n",
            "Epoch 89/300\n",
            "16/16 [==============================] - 0s 7ms/step - loss: 0.0254 - mae: 0.1196 - val_loss: 0.0257 - val_mae: 0.1239 - lr: 0.0010\n",
            "Epoch 90/300\n",
            "16/16 [==============================] - 0s 7ms/step - loss: 0.0256 - mae: 0.1200 - val_loss: 0.0257 - val_mae: 0.1226 - lr: 0.0010\n",
            "Epoch 91/300\n",
            "16/16 [==============================] - 0s 6ms/step - loss: 0.0256 - mae: 0.1203 - val_loss: 0.0256 - val_mae: 0.1213 - lr: 0.0010\n",
            "Epoch 92/300\n",
            "16/16 [==============================] - 0s 6ms/step - loss: 0.0255 - mae: 0.1196 - val_loss: 0.0257 - val_mae: 0.1234 - lr: 0.0010\n",
            "Epoch 93/300\n",
            "16/16 [==============================] - 0s 7ms/step - loss: 0.0256 - mae: 0.1200 - val_loss: 0.0258 - val_mae: 0.1249 - lr: 0.0010\n",
            "Epoch 94/300\n",
            "16/16 [==============================] - 0s 6ms/step - loss: 0.0256 - mae: 0.1203 - val_loss: 0.0257 - val_mae: 0.1237 - lr: 0.0010\n",
            "Epoch 95/300\n",
            "16/16 [==============================] - 0s 6ms/step - loss: 0.0256 - mae: 0.1201 - val_loss: 0.0256 - val_mae: 0.1217 - lr: 0.0010\n",
            "Epoch 96/300\n",
            "16/16 [==============================] - 0s 6ms/step - loss: 0.0255 - mae: 0.1194 - val_loss: 0.0256 - val_mae: 0.1223 - lr: 0.0010\n",
            "Epoch 97/300\n",
            "16/16 [==============================] - 0s 5ms/step - loss: 0.0255 - mae: 0.1195 - val_loss: 0.0258 - val_mae: 0.1239 - lr: 0.0010\n",
            "Epoch 98/300\n",
            "16/16 [==============================] - 0s 6ms/step - loss: 0.0256 - mae: 0.1196 - val_loss: 0.0255 - val_mae: 0.1221 - lr: 0.0010\n",
            "Epoch 99/300\n",
            "16/16 [==============================] - 0s 6ms/step - loss: 0.0255 - mae: 0.1194 - val_loss: 0.0257 - val_mae: 0.1234 - lr: 0.0010\n",
            "Epoch 100/300\n",
            "16/16 [==============================] - 0s 5ms/step - loss: 0.0257 - mae: 0.1200 - val_loss: 0.0258 - val_mae: 0.1239 - lr: 0.0010\n",
            "Epoch 101/300\n",
            "16/16 [==============================] - 0s 6ms/step - loss: 0.0255 - mae: 0.1199 - val_loss: 0.0258 - val_mae: 0.1234 - lr: 0.0010\n",
            "Epoch 102/300\n",
            "16/16 [==============================] - 0s 5ms/step - loss: 0.0255 - mae: 0.1195 - val_loss: 0.0256 - val_mae: 0.1220 - lr: 0.0010\n",
            "Epoch 103/300\n",
            "16/16 [==============================] - 0s 6ms/step - loss: 0.0256 - mae: 0.1197 - val_loss: 0.0255 - val_mae: 0.1214 - lr: 5.0000e-04\n",
            "Epoch 104/300\n",
            "16/16 [==============================] - 0s 5ms/step - loss: 0.0254 - mae: 0.1189 - val_loss: 0.0256 - val_mae: 0.1225 - lr: 5.0000e-04\n",
            "Epoch 105/300\n",
            "16/16 [==============================] - 0s 6ms/step - loss: 0.0255 - mae: 0.1194 - val_loss: 0.0256 - val_mae: 0.1229 - lr: 5.0000e-04\n",
            "Epoch 106/300\n",
            "16/16 [==============================] - 0s 6ms/step - loss: 0.0255 - mae: 0.1197 - val_loss: 0.0255 - val_mae: 0.1217 - lr: 5.0000e-04\n",
            "Epoch 107/300\n",
            "16/16 [==============================] - 0s 6ms/step - loss: 0.0254 - mae: 0.1193 - val_loss: 0.0255 - val_mae: 0.1216 - lr: 5.0000e-04\n",
            "Epoch 108/300\n",
            "16/16 [==============================] - 0s 5ms/step - loss: 0.0254 - mae: 0.1194 - val_loss: 0.0256 - val_mae: 0.1229 - lr: 5.0000e-04\n",
            "Epoch 109/300\n",
            "16/16 [==============================] - 0s 5ms/step - loss: 0.0255 - mae: 0.1198 - val_loss: 0.0256 - val_mae: 0.1227 - lr: 5.0000e-04\n",
            "Epoch 110/300\n",
            "16/16 [==============================] - 0s 6ms/step - loss: 0.0255 - mae: 0.1196 - val_loss: 0.0255 - val_mae: 0.1220 - lr: 5.0000e-04\n",
            "Epoch 111/300\n",
            "16/16 [==============================] - 0s 6ms/step - loss: 0.0255 - mae: 0.1196 - val_loss: 0.0256 - val_mae: 0.1217 - lr: 5.0000e-04\n",
            "Epoch 112/300\n",
            "16/16 [==============================] - 0s 5ms/step - loss: 0.0254 - mae: 0.1193 - val_loss: 0.0255 - val_mae: 0.1218 - lr: 5.0000e-04\n",
            "Epoch 113/300\n",
            "16/16 [==============================] - 0s 6ms/step - loss: 0.0256 - mae: 0.1195 - val_loss: 0.0256 - val_mae: 0.1221 - lr: 5.0000e-04\n",
            "Epoch 114/300\n",
            "16/16 [==============================] - 0s 7ms/step - loss: 0.0255 - mae: 0.1195 - val_loss: 0.0257 - val_mae: 0.1235 - lr: 5.0000e-04\n",
            "Epoch 115/300\n",
            "16/16 [==============================] - 0s 6ms/step - loss: 0.0255 - mae: 0.1195 - val_loss: 0.0256 - val_mae: 0.1233 - lr: 5.0000e-04\n",
            "Epoch 116/300\n",
            "16/16 [==============================] - 0s 6ms/step - loss: 0.0254 - mae: 0.1196 - val_loss: 0.0256 - val_mae: 0.1224 - lr: 5.0000e-04\n",
            "Epoch 117/300\n",
            "16/16 [==============================] - 0s 6ms/step - loss: 0.0255 - mae: 0.1195 - val_loss: 0.0256 - val_mae: 0.1219 - lr: 5.0000e-04\n",
            "Epoch 118/300\n",
            "16/16 [==============================] - 0s 6ms/step - loss: 0.0257 - mae: 0.1198 - val_loss: 0.0256 - val_mae: 0.1233 - lr: 5.0000e-04\n",
            "Epoch 119/300\n",
            "16/16 [==============================] - 0s 7ms/step - loss: 0.0255 - mae: 0.1197 - val_loss: 0.0255 - val_mae: 0.1222 - lr: 5.0000e-04\n",
            "Epoch 120/300\n",
            "16/16 [==============================] - 0s 7ms/step - loss: 0.0256 - mae: 0.1194 - val_loss: 0.0257 - val_mae: 0.1238 - lr: 5.0000e-04\n",
            "Epoch 121/300\n",
            "16/16 [==============================] - 0s 6ms/step - loss: 0.0254 - mae: 0.1196 - val_loss: 0.0256 - val_mae: 0.1223 - lr: 5.0000e-04\n",
            "Epoch 122/300\n",
            "16/16 [==============================] - 0s 6ms/step - loss: 0.0256 - mae: 0.1196 - val_loss: 0.0256 - val_mae: 0.1225 - lr: 5.0000e-04\n",
            "Epoch 123/300\n",
            "16/16 [==============================] - 0s 6ms/step - loss: 0.0255 - mae: 0.1192 - val_loss: 0.0257 - val_mae: 0.1231 - lr: 5.0000e-04\n",
            "Epoch 124/300\n",
            "16/16 [==============================] - 0s 6ms/step - loss: 0.0254 - mae: 0.1194 - val_loss: 0.0257 - val_mae: 0.1227 - lr: 5.0000e-04\n",
            "Epoch 125/300\n",
            "16/16 [==============================] - 0s 6ms/step - loss: 0.0255 - mae: 0.1196 - val_loss: 0.0256 - val_mae: 0.1222 - lr: 5.0000e-04\n",
            "Epoch 126/300\n",
            "16/16 [==============================] - 0s 7ms/step - loss: 0.0256 - mae: 0.1196 - val_loss: 0.0255 - val_mae: 0.1222 - lr: 5.0000e-04\n",
            "Epoch 127/300\n",
            "16/16 [==============================] - 0s 7ms/step - loss: 0.0253 - mae: 0.1192 - val_loss: 0.0255 - val_mae: 0.1215 - lr: 5.0000e-04\n",
            "Epoch 128/300\n",
            "16/16 [==============================] - 0s 5ms/step - loss: 0.0254 - mae: 0.1191 - val_loss: 0.0255 - val_mae: 0.1220 - lr: 5.0000e-04\n",
            "Epoch 129/300\n",
            "16/16 [==============================] - 0s 5ms/step - loss: 0.0254 - mae: 0.1192 - val_loss: 0.0255 - val_mae: 0.1226 - lr: 5.0000e-04\n",
            "Epoch 130/300\n",
            "16/16 [==============================] - 0s 7ms/step - loss: 0.0255 - mae: 0.1196 - val_loss: 0.0256 - val_mae: 0.1227 - lr: 5.0000e-04\n",
            "Epoch 131/300\n",
            "16/16 [==============================] - 0s 7ms/step - loss: 0.0256 - mae: 0.1195 - val_loss: 0.0256 - val_mae: 0.1218 - lr: 5.0000e-04\n",
            "Epoch 132/300\n",
            "16/16 [==============================] - 0s 5ms/step - loss: 0.0256 - mae: 0.1193 - val_loss: 0.0256 - val_mae: 0.1233 - lr: 5.0000e-04\n",
            "Epoch 133/300\n",
            "16/16 [==============================] - 0s 7ms/step - loss: 0.0255 - mae: 0.1200 - val_loss: 0.0255 - val_mae: 0.1216 - lr: 5.0000e-04\n",
            "Epoch 134/300\n",
            "16/16 [==============================] - 0s 6ms/step - loss: 0.0256 - mae: 0.1192 - val_loss: 0.0255 - val_mae: 0.1224 - lr: 2.5000e-04\n",
            "Epoch 135/300\n",
            "16/16 [==============================] - 0s 7ms/step - loss: 0.0256 - mae: 0.1199 - val_loss: 0.0256 - val_mae: 0.1224 - lr: 2.5000e-04\n",
            "Epoch 136/300\n",
            "16/16 [==============================] - 0s 6ms/step - loss: 0.0253 - mae: 0.1190 - val_loss: 0.0255 - val_mae: 0.1225 - lr: 2.5000e-04\n",
            "Epoch 137/300\n",
            "16/16 [==============================] - 0s 5ms/step - loss: 0.0254 - mae: 0.1192 - val_loss: 0.0255 - val_mae: 0.1226 - lr: 2.5000e-04\n",
            "Epoch 138/300\n",
            "16/16 [==============================] - 0s 5ms/step - loss: 0.0253 - mae: 0.1192 - val_loss: 0.0255 - val_mae: 0.1222 - lr: 2.5000e-04\n",
            "Epoch 139/300\n",
            "16/16 [==============================] - 0s 6ms/step - loss: 0.0255 - mae: 0.1193 - val_loss: 0.0256 - val_mae: 0.1229 - lr: 2.5000e-04\n",
            "Epoch 140/300\n",
            "16/16 [==============================] - 0s 5ms/step - loss: 0.0255 - mae: 0.1197 - val_loss: 0.0255 - val_mae: 0.1224 - lr: 2.5000e-04\n",
            "Epoch 141/300\n",
            "16/16 [==============================] - 0s 7ms/step - loss: 0.0254 - mae: 0.1191 - val_loss: 0.0255 - val_mae: 0.1224 - lr: 2.5000e-04\n",
            "Epoch 142/300\n",
            "16/16 [==============================] - 0s 6ms/step - loss: 0.0254 - mae: 0.1192 - val_loss: 0.0256 - val_mae: 0.1228 - lr: 2.5000e-04\n",
            "Epoch 143/300\n",
            "16/16 [==============================] - 0s 6ms/step - loss: 0.0254 - mae: 0.1189 - val_loss: 0.0256 - val_mae: 0.1232 - lr: 2.5000e-04\n",
            "Epoch 144/300\n",
            "16/16 [==============================] - 0s 6ms/step - loss: 0.0254 - mae: 0.1193 - val_loss: 0.0255 - val_mae: 0.1226 - lr: 2.5000e-04\n",
            "Epoch 145/300\n",
            "16/16 [==============================] - 0s 6ms/step - loss: 0.0253 - mae: 0.1187 - val_loss: 0.0256 - val_mae: 0.1230 - lr: 2.5000e-04\n",
            "Epoch 146/300\n",
            "16/16 [==============================] - 0s 6ms/step - loss: 0.0254 - mae: 0.1195 - val_loss: 0.0256 - val_mae: 0.1229 - lr: 2.5000e-04\n",
            "Epoch 147/300\n",
            "16/16 [==============================] - 0s 7ms/step - loss: 0.0255 - mae: 0.1199 - val_loss: 0.0256 - val_mae: 0.1226 - lr: 2.5000e-04\n",
            "Epoch 148/300\n",
            "16/16 [==============================] - 0s 5ms/step - loss: 0.0255 - mae: 0.1193 - val_loss: 0.0255 - val_mae: 0.1226 - lr: 2.5000e-04\n",
            "Epoch 149/300\n",
            "16/16 [==============================] - 0s 6ms/step - loss: 0.0253 - mae: 0.1190 - val_loss: 0.0256 - val_mae: 0.1229 - lr: 2.5000e-04\n",
            "Epoch 150/300\n",
            "16/16 [==============================] - 0s 6ms/step - loss: 0.0254 - mae: 0.1194 - val_loss: 0.0255 - val_mae: 0.1222 - lr: 2.5000e-04\n",
            "Epoch 151/300\n",
            "16/16 [==============================] - 0s 6ms/step - loss: 0.0255 - mae: 0.1193 - val_loss: 0.0255 - val_mae: 0.1227 - lr: 2.5000e-04\n",
            "Epoch 152/300\n",
            "16/16 [==============================] - 0s 6ms/step - loss: 0.0254 - mae: 0.1194 - val_loss: 0.0255 - val_mae: 0.1226 - lr: 2.5000e-04\n",
            "Epoch 153/300\n",
            "16/16 [==============================] - 0s 6ms/step - loss: 0.0256 - mae: 0.1201 - val_loss: 0.0254 - val_mae: 0.1218 - lr: 2.5000e-04\n",
            "Epoch 154/300\n",
            "16/16 [==============================] - 0s 6ms/step - loss: 0.0254 - mae: 0.1190 - val_loss: 0.0255 - val_mae: 0.1228 - lr: 2.5000e-04\n",
            "Epoch 155/300\n",
            "16/16 [==============================] - 0s 5ms/step - loss: 0.0254 - mae: 0.1197 - val_loss: 0.0255 - val_mae: 0.1227 - lr: 2.5000e-04\n",
            "Epoch 156/300\n",
            "16/16 [==============================] - 0s 7ms/step - loss: 0.0256 - mae: 0.1198 - val_loss: 0.0255 - val_mae: 0.1224 - lr: 2.5000e-04\n",
            "Epoch 157/300\n",
            "16/16 [==============================] - 0s 7ms/step - loss: 0.0255 - mae: 0.1195 - val_loss: 0.0255 - val_mae: 0.1225 - lr: 2.5000e-04\n",
            "Epoch 158/300\n",
            "16/16 [==============================] - 0s 6ms/step - loss: 0.0254 - mae: 0.1192 - val_loss: 0.0255 - val_mae: 0.1220 - lr: 2.5000e-04\n",
            "Epoch 159/300\n",
            "16/16 [==============================] - 0s 5ms/step - loss: 0.0255 - mae: 0.1193 - val_loss: 0.0255 - val_mae: 0.1228 - lr: 2.5000e-04\n",
            "Epoch 160/300\n",
            "16/16 [==============================] - 0s 6ms/step - loss: 0.0255 - mae: 0.1195 - val_loss: 0.0255 - val_mae: 0.1225 - lr: 2.5000e-04\n",
            "Epoch 161/300\n",
            "16/16 [==============================] - 0s 6ms/step - loss: 0.0252 - mae: 0.1188 - val_loss: 0.0255 - val_mae: 0.1220 - lr: 2.5000e-04\n",
            "Epoch 162/300\n",
            "16/16 [==============================] - 0s 6ms/step - loss: 0.0255 - mae: 0.1194 - val_loss: 0.0255 - val_mae: 0.1223 - lr: 2.5000e-04\n",
            "Epoch 163/300\n",
            "16/16 [==============================] - 0s 6ms/step - loss: 0.0256 - mae: 0.1195 - val_loss: 0.0256 - val_mae: 0.1229 - lr: 2.5000e-04\n",
            "Epoch 164/300\n",
            "16/16 [==============================] - 0s 6ms/step - loss: 0.0254 - mae: 0.1193 - val_loss: 0.0256 - val_mae: 0.1228 - lr: 1.2500e-04\n",
            "Epoch 165/300\n",
            "16/16 [==============================] - 0s 6ms/step - loss: 0.0255 - mae: 0.1195 - val_loss: 0.0256 - val_mae: 0.1226 - lr: 1.2500e-04\n",
            "Epoch 166/300\n",
            "16/16 [==============================] - 0s 7ms/step - loss: 0.0255 - mae: 0.1197 - val_loss: 0.0256 - val_mae: 0.1226 - lr: 1.2500e-04\n",
            "Epoch 167/300\n",
            "16/16 [==============================] - 0s 6ms/step - loss: 0.0254 - mae: 0.1193 - val_loss: 0.0255 - val_mae: 0.1226 - lr: 1.2500e-04\n",
            "Epoch 168/300\n",
            "16/16 [==============================] - 0s 9ms/step - loss: 0.0253 - mae: 0.1188 - val_loss: 0.0255 - val_mae: 0.1225 - lr: 1.2500e-04\n",
            "Epoch 169/300\n",
            "16/16 [==============================] - 0s 9ms/step - loss: 0.0253 - mae: 0.1193 - val_loss: 0.0255 - val_mae: 0.1222 - lr: 1.2500e-04\n",
            "Epoch 170/300\n",
            "16/16 [==============================] - 0s 10ms/step - loss: 0.0254 - mae: 0.1190 - val_loss: 0.0255 - val_mae: 0.1222 - lr: 1.2500e-04\n",
            "Epoch 171/300\n",
            "16/16 [==============================] - 0s 10ms/step - loss: 0.0254 - mae: 0.1192 - val_loss: 0.0255 - val_mae: 0.1222 - lr: 1.2500e-04\n",
            "Epoch 172/300\n",
            "16/16 [==============================] - 0s 10ms/step - loss: 0.0256 - mae: 0.1195 - val_loss: 0.0256 - val_mae: 0.1227 - lr: 1.2500e-04\n",
            "Epoch 173/300\n",
            "16/16 [==============================] - 0s 10ms/step - loss: 0.0255 - mae: 0.1198 - val_loss: 0.0255 - val_mae: 0.1224 - lr: 1.2500e-04\n",
            "Epoch 174/300\n",
            "16/16 [==============================] - 0s 9ms/step - loss: 0.0256 - mae: 0.1191 - val_loss: 0.0255 - val_mae: 0.1226 - lr: 1.2500e-04\n",
            "Epoch 175/300\n",
            "16/16 [==============================] - 0s 9ms/step - loss: 0.0255 - mae: 0.1196 - val_loss: 0.0255 - val_mae: 0.1225 - lr: 1.2500e-04\n",
            "Epoch 176/300\n",
            "16/16 [==============================] - 0s 10ms/step - loss: 0.0254 - mae: 0.1193 - val_loss: 0.0256 - val_mae: 0.1228 - lr: 1.2500e-04\n",
            "Epoch 177/300\n",
            "16/16 [==============================] - 0s 10ms/step - loss: 0.0253 - mae: 0.1191 - val_loss: 0.0255 - val_mae: 0.1224 - lr: 1.2500e-04\n",
            "Epoch 178/300\n",
            "16/16 [==============================] - 0s 9ms/step - loss: 0.0255 - mae: 0.1190 - val_loss: 0.0255 - val_mae: 0.1223 - lr: 1.2500e-04\n",
            "Epoch 179/300\n",
            "16/16 [==============================] - 0s 9ms/step - loss: 0.0253 - mae: 0.1187 - val_loss: 0.0255 - val_mae: 0.1224 - lr: 1.2500e-04\n",
            "Epoch 180/300\n",
            "16/16 [==============================] - 0s 9ms/step - loss: 0.0256 - mae: 0.1193 - val_loss: 0.0255 - val_mae: 0.1223 - lr: 1.2500e-04\n",
            "Epoch 181/300\n",
            "16/16 [==============================] - 0s 9ms/step - loss: 0.0255 - mae: 0.1195 - val_loss: 0.0255 - val_mae: 0.1224 - lr: 1.2500e-04\n",
            "Epoch 182/300\n",
            "16/16 [==============================] - 0s 9ms/step - loss: 0.0254 - mae: 0.1190 - val_loss: 0.0255 - val_mae: 0.1224 - lr: 1.2500e-04\n",
            "Epoch 183/300\n",
            "16/16 [==============================] - 0s 9ms/step - loss: 0.0254 - mae: 0.1190 - val_loss: 0.0255 - val_mae: 0.1225 - lr: 1.2500e-04\n",
            "Epoch 184/300\n",
            "16/16 [==============================] - 0s 9ms/step - loss: 0.0255 - mae: 0.1193 - val_loss: 0.0255 - val_mae: 0.1226 - lr: 1.2500e-04\n",
            "Epoch 185/300\n",
            "16/16 [==============================] - 0s 9ms/step - loss: 0.0254 - mae: 0.1191 - val_loss: 0.0255 - val_mae: 0.1225 - lr: 1.2500e-04\n",
            "Epoch 186/300\n",
            "16/16 [==============================] - 0s 8ms/step - loss: 0.0253 - mae: 0.1190 - val_loss: 0.0255 - val_mae: 0.1225 - lr: 1.2500e-04\n",
            "Epoch 187/300\n",
            "16/16 [==============================] - 0s 9ms/step - loss: 0.0252 - mae: 0.1188 - val_loss: 0.0255 - val_mae: 0.1223 - lr: 1.2500e-04\n",
            "Epoch 188/300\n",
            "16/16 [==============================] - 0s 10ms/step - loss: 0.0256 - mae: 0.1193 - val_loss: 0.0255 - val_mae: 0.1222 - lr: 1.2500e-04\n",
            "Epoch 189/300\n",
            "16/16 [==============================] - 0s 9ms/step - loss: 0.0254 - mae: 0.1190 - val_loss: 0.0255 - val_mae: 0.1223 - lr: 1.2500e-04\n",
            "Epoch 190/300\n",
            "16/16 [==============================] - 0s 8ms/step - loss: 0.0255 - mae: 0.1190 - val_loss: 0.0255 - val_mae: 0.1223 - lr: 1.2500e-04\n",
            "Epoch 191/300\n",
            "16/16 [==============================] - 0s 7ms/step - loss: 0.0255 - mae: 0.1193 - val_loss: 0.0255 - val_mae: 0.1226 - lr: 1.2500e-04\n",
            "Epoch 192/300\n",
            "16/16 [==============================] - 0s 6ms/step - loss: 0.0256 - mae: 0.1203 - val_loss: 0.0255 - val_mae: 0.1225 - lr: 1.2500e-04\n",
            "Epoch 193/300\n",
            "16/16 [==============================] - 0s 5ms/step - loss: 0.0251 - mae: 0.1188 - val_loss: 0.0255 - val_mae: 0.1225 - lr: 1.2500e-04\n",
            "Epoch 194/300\n",
            "16/16 [==============================] - 0s 7ms/step - loss: 0.0256 - mae: 0.1195 - val_loss: 0.0255 - val_mae: 0.1226 - lr: 6.2500e-05\n",
            "Epoch 195/300\n",
            "16/16 [==============================] - 0s 6ms/step - loss: 0.0254 - mae: 0.1193 - val_loss: 0.0255 - val_mae: 0.1225 - lr: 6.2500e-05\n",
            "Epoch 196/300\n",
            "16/16 [==============================] - 0s 6ms/step - loss: 0.0252 - mae: 0.1188 - val_loss: 0.0255 - val_mae: 0.1226 - lr: 6.2500e-05\n",
            "Epoch 197/300\n",
            "16/16 [==============================] - 0s 6ms/step - loss: 0.0255 - mae: 0.1197 - val_loss: 0.0255 - val_mae: 0.1226 - lr: 6.2500e-05\n",
            "Epoch 198/300\n",
            "16/16 [==============================] - 0s 6ms/step - loss: 0.0253 - mae: 0.1191 - val_loss: 0.0255 - val_mae: 0.1226 - lr: 6.2500e-05\n",
            "Epoch 199/300\n",
            "16/16 [==============================] - 0s 6ms/step - loss: 0.0253 - mae: 0.1188 - val_loss: 0.0255 - val_mae: 0.1225 - lr: 6.2500e-05\n",
            "Epoch 200/300\n",
            "16/16 [==============================] - 0s 5ms/step - loss: 0.0254 - mae: 0.1193 - val_loss: 0.0255 - val_mae: 0.1224 - lr: 6.2500e-05\n",
            "Epoch 201/300\n",
            "16/16 [==============================] - 0s 7ms/step - loss: 0.0253 - mae: 0.1188 - val_loss: 0.0255 - val_mae: 0.1224 - lr: 6.2500e-05\n",
            "Epoch 202/300\n",
            "16/16 [==============================] - 0s 6ms/step - loss: 0.0254 - mae: 0.1194 - val_loss: 0.0255 - val_mae: 0.1224 - lr: 6.2500e-05\n",
            "Epoch 203/300\n",
            "16/16 [==============================] - 0s 6ms/step - loss: 0.0253 - mae: 0.1190 - val_loss: 0.0255 - val_mae: 0.1225 - lr: 6.2500e-05\n",
            "Epoch 204/300\n",
            "16/16 [==============================] - 0s 6ms/step - loss: 0.0256 - mae: 0.1197 - val_loss: 0.0255 - val_mae: 0.1223 - lr: 6.2500e-05\n",
            "Epoch 205/300\n",
            "16/16 [==============================] - 0s 8ms/step - loss: 0.0254 - mae: 0.1192 - val_loss: 0.0255 - val_mae: 0.1225 - lr: 6.2500e-05\n",
            "Epoch 206/300\n",
            "16/16 [==============================] - 0s 7ms/step - loss: 0.0255 - mae: 0.1195 - val_loss: 0.0255 - val_mae: 0.1225 - lr: 6.2500e-05\n",
            "Epoch 207/300\n",
            "16/16 [==============================] - 0s 7ms/step - loss: 0.0254 - mae: 0.1194 - val_loss: 0.0255 - val_mae: 0.1225 - lr: 6.2500e-05\n",
            "Epoch 208/300\n",
            "16/16 [==============================] - 0s 6ms/step - loss: 0.0253 - mae: 0.1191 - val_loss: 0.0255 - val_mae: 0.1224 - lr: 6.2500e-05\n",
            "Epoch 209/300\n",
            "16/16 [==============================] - 0s 6ms/step - loss: 0.0253 - mae: 0.1187 - val_loss: 0.0255 - val_mae: 0.1223 - lr: 6.2500e-05\n",
            "Epoch 210/300\n",
            "16/16 [==============================] - 0s 6ms/step - loss: 0.0253 - mae: 0.1188 - val_loss: 0.0255 - val_mae: 0.1223 - lr: 6.2500e-05\n",
            "Epoch 211/300\n",
            "16/16 [==============================] - 0s 6ms/step - loss: 0.0256 - mae: 0.1195 - val_loss: 0.0255 - val_mae: 0.1223 - lr: 6.2500e-05\n",
            "Epoch 212/300\n",
            "16/16 [==============================] - 0s 7ms/step - loss: 0.0254 - mae: 0.1193 - val_loss: 0.0255 - val_mae: 0.1224 - lr: 6.2500e-05\n",
            "Epoch 213/300\n",
            "16/16 [==============================] - 0s 6ms/step - loss: 0.0254 - mae: 0.1191 - val_loss: 0.0255 - val_mae: 0.1226 - lr: 6.2500e-05\n",
            "Epoch 214/300\n",
            "16/16 [==============================] - 0s 7ms/step - loss: 0.0254 - mae: 0.1193 - val_loss: 0.0255 - val_mae: 0.1225 - lr: 6.2500e-05\n",
            "Epoch 215/300\n",
            "16/16 [==============================] - 0s 5ms/step - loss: 0.0254 - mae: 0.1194 - val_loss: 0.0255 - val_mae: 0.1224 - lr: 6.2500e-05\n",
            "Epoch 216/300\n",
            "16/16 [==============================] - 0s 7ms/step - loss: 0.0254 - mae: 0.1193 - val_loss: 0.0255 - val_mae: 0.1224 - lr: 6.2500e-05\n",
            "Epoch 217/300\n",
            "16/16 [==============================] - 0s 6ms/step - loss: 0.0252 - mae: 0.1188 - val_loss: 0.0255 - val_mae: 0.1224 - lr: 6.2500e-05\n",
            "Epoch 218/300\n",
            "16/16 [==============================] - 0s 6ms/step - loss: 0.0255 - mae: 0.1195 - val_loss: 0.0255 - val_mae: 0.1224 - lr: 6.2500e-05\n",
            "Epoch 219/300\n",
            "16/16 [==============================] - 0s 6ms/step - loss: 0.0253 - mae: 0.1192 - val_loss: 0.0255 - val_mae: 0.1224 - lr: 6.2500e-05\n",
            "Epoch 220/300\n",
            "16/16 [==============================] - 0s 6ms/step - loss: 0.0254 - mae: 0.1189 - val_loss: 0.0255 - val_mae: 0.1224 - lr: 6.2500e-05\n",
            "Epoch 221/300\n",
            "16/16 [==============================] - 0s 5ms/step - loss: 0.0254 - mae: 0.1192 - val_loss: 0.0255 - val_mae: 0.1225 - lr: 6.2500e-05\n",
            "Epoch 222/300\n",
            "16/16 [==============================] - 0s 7ms/step - loss: 0.0255 - mae: 0.1195 - val_loss: 0.0255 - val_mae: 0.1224 - lr: 6.2500e-05\n",
            "Epoch 223/300\n",
            "16/16 [==============================] - 0s 6ms/step - loss: 0.0256 - mae: 0.1196 - val_loss: 0.0255 - val_mae: 0.1223 - lr: 6.2500e-05\n",
            "Epoch 224/300\n",
            "16/16 [==============================] - 0s 6ms/step - loss: 0.0253 - mae: 0.1190 - val_loss: 0.0255 - val_mae: 0.1223 - lr: 3.1250e-05\n",
            "Epoch 225/300\n",
            "16/16 [==============================] - 0s 6ms/step - loss: 0.0253 - mae: 0.1188 - val_loss: 0.0255 - val_mae: 0.1223 - lr: 3.1250e-05\n",
            "Epoch 226/300\n",
            "16/16 [==============================] - 0s 6ms/step - loss: 0.0254 - mae: 0.1191 - val_loss: 0.0255 - val_mae: 0.1224 - lr: 3.1250e-05\n",
            "Epoch 227/300\n",
            "16/16 [==============================] - 0s 6ms/step - loss: 0.0252 - mae: 0.1187 - val_loss: 0.0255 - val_mae: 0.1224 - lr: 3.1250e-05\n",
            "Epoch 228/300\n",
            "16/16 [==============================] - 0s 7ms/step - loss: 0.0254 - mae: 0.1195 - val_loss: 0.0255 - val_mae: 0.1225 - lr: 3.1250e-05\n",
            "Epoch 229/300\n",
            "16/16 [==============================] - 0s 7ms/step - loss: 0.0253 - mae: 0.1192 - val_loss: 0.0255 - val_mae: 0.1225 - lr: 3.1250e-05\n",
            "Epoch 230/300\n",
            "16/16 [==============================] - 0s 6ms/step - loss: 0.0253 - mae: 0.1188 - val_loss: 0.0255 - val_mae: 0.1225 - lr: 3.1250e-05\n",
            "Epoch 231/300\n",
            "16/16 [==============================] - 0s 6ms/step - loss: 0.0253 - mae: 0.1193 - val_loss: 0.0255 - val_mae: 0.1225 - lr: 3.1250e-05\n",
            "Epoch 232/300\n",
            "16/16 [==============================] - 0s 5ms/step - loss: 0.0252 - mae: 0.1191 - val_loss: 0.0255 - val_mae: 0.1225 - lr: 3.1250e-05\n",
            "Epoch 233/300\n",
            "16/16 [==============================] - 0s 5ms/step - loss: 0.0255 - mae: 0.1192 - val_loss: 0.0255 - val_mae: 0.1225 - lr: 3.1250e-05\n",
            "Epoch 234/300\n",
            "16/16 [==============================] - 0s 6ms/step - loss: 0.0254 - mae: 0.1193 - val_loss: 0.0255 - val_mae: 0.1225 - lr: 3.1250e-05\n",
            "Epoch 235/300\n",
            "16/16 [==============================] - 0s 7ms/step - loss: 0.0254 - mae: 0.1192 - val_loss: 0.0255 - val_mae: 0.1225 - lr: 3.1250e-05\n",
            "Epoch 236/300\n",
            "16/16 [==============================] - 0s 5ms/step - loss: 0.0254 - mae: 0.1194 - val_loss: 0.0255 - val_mae: 0.1225 - lr: 3.1250e-05\n",
            "Epoch 237/300\n",
            "16/16 [==============================] - 0s 5ms/step - loss: 0.0254 - mae: 0.1187 - val_loss: 0.0255 - val_mae: 0.1225 - lr: 3.1250e-05\n",
            "Epoch 238/300\n",
            "16/16 [==============================] - 0s 6ms/step - loss: 0.0253 - mae: 0.1192 - val_loss: 0.0255 - val_mae: 0.1224 - lr: 3.1250e-05\n",
            "Epoch 239/300\n",
            "16/16 [==============================] - 0s 6ms/step - loss: 0.0254 - mae: 0.1194 - val_loss: 0.0255 - val_mae: 0.1225 - lr: 3.1250e-05\n",
            "Epoch 240/300\n",
            "16/16 [==============================] - 0s 6ms/step - loss: 0.0253 - mae: 0.1192 - val_loss: 0.0255 - val_mae: 0.1225 - lr: 3.1250e-05\n",
            "Epoch 241/300\n",
            "16/16 [==============================] - 0s 7ms/step - loss: 0.0253 - mae: 0.1192 - val_loss: 0.0255 - val_mae: 0.1225 - lr: 3.1250e-05\n",
            "Epoch 242/300\n",
            "16/16 [==============================] - 0s 5ms/step - loss: 0.0256 - mae: 0.1197 - val_loss: 0.0255 - val_mae: 0.1224 - lr: 3.1250e-05\n",
            "Epoch 243/300\n",
            "16/16 [==============================] - 0s 7ms/step - loss: 0.0255 - mae: 0.1195 - val_loss: 0.0255 - val_mae: 0.1224 - lr: 3.1250e-05\n",
            "Epoch 244/300\n",
            "16/16 [==============================] - 0s 6ms/step - loss: 0.0253 - mae: 0.1194 - val_loss: 0.0255 - val_mae: 0.1225 - lr: 3.1250e-05\n",
            "Epoch 245/300\n",
            "16/16 [==============================] - 0s 6ms/step - loss: 0.0254 - mae: 0.1195 - val_loss: 0.0255 - val_mae: 0.1225 - lr: 3.1250e-05\n",
            "Epoch 246/300\n",
            "16/16 [==============================] - 0s 6ms/step - loss: 0.0252 - mae: 0.1186 - val_loss: 0.0255 - val_mae: 0.1225 - lr: 3.1250e-05\n",
            "Epoch 247/300\n",
            "16/16 [==============================] - 0s 7ms/step - loss: 0.0255 - mae: 0.1194 - val_loss: 0.0255 - val_mae: 0.1225 - lr: 3.1250e-05\n",
            "Epoch 248/300\n",
            "16/16 [==============================] - 0s 7ms/step - loss: 0.0254 - mae: 0.1194 - val_loss: 0.0255 - val_mae: 0.1225 - lr: 3.1250e-05\n",
            "Epoch 249/300\n",
            "16/16 [==============================] - 0s 6ms/step - loss: 0.0255 - mae: 0.1194 - val_loss: 0.0255 - val_mae: 0.1225 - lr: 3.1250e-05\n",
            "Epoch 250/300\n",
            "16/16 [==============================] - 0s 6ms/step - loss: 0.0254 - mae: 0.1192 - val_loss: 0.0255 - val_mae: 0.1224 - lr: 3.1250e-05\n",
            "Epoch 251/300\n",
            "16/16 [==============================] - 0s 7ms/step - loss: 0.0254 - mae: 0.1191 - val_loss: 0.0255 - val_mae: 0.1224 - lr: 3.1250e-05\n",
            "Epoch 252/300\n",
            "16/16 [==============================] - 0s 6ms/step - loss: 0.0254 - mae: 0.1193 - val_loss: 0.0255 - val_mae: 0.1224 - lr: 3.1250e-05\n",
            "Epoch 253/300\n",
            "16/16 [==============================] - 0s 7ms/step - loss: 0.0252 - mae: 0.1190 - val_loss: 0.0255 - val_mae: 0.1224 - lr: 3.1250e-05\n",
            "Epoch 254/300\n",
            "16/16 [==============================] - 0s 6ms/step - loss: 0.0254 - mae: 0.1194 - val_loss: 0.0255 - val_mae: 0.1224 - lr: 1.5625e-05\n",
            "Epoch 255/300\n",
            "16/16 [==============================] - 0s 6ms/step - loss: 0.0254 - mae: 0.1193 - val_loss: 0.0255 - val_mae: 0.1224 - lr: 1.5625e-05\n",
            "Epoch 256/300\n",
            "16/16 [==============================] - 0s 6ms/step - loss: 0.0254 - mae: 0.1193 - val_loss: 0.0255 - val_mae: 0.1225 - lr: 1.5625e-05\n",
            "Epoch 257/300\n",
            "16/16 [==============================] - 0s 7ms/step - loss: 0.0254 - mae: 0.1190 - val_loss: 0.0255 - val_mae: 0.1224 - lr: 1.5625e-05\n",
            "Epoch 258/300\n",
            "16/16 [==============================] - 0s 7ms/step - loss: 0.0254 - mae: 0.1191 - val_loss: 0.0255 - val_mae: 0.1224 - lr: 1.5625e-05\n",
            "Epoch 259/300\n",
            "16/16 [==============================] - 0s 7ms/step - loss: 0.0253 - mae: 0.1193 - val_loss: 0.0255 - val_mae: 0.1224 - lr: 1.5625e-05\n",
            "Epoch 260/300\n",
            "16/16 [==============================] - 0s 7ms/step - loss: 0.0254 - mae: 0.1189 - val_loss: 0.0255 - val_mae: 0.1224 - lr: 1.5625e-05\n",
            "Epoch 261/300\n",
            "16/16 [==============================] - 0s 7ms/step - loss: 0.0254 - mae: 0.1190 - val_loss: 0.0255 - val_mae: 0.1225 - lr: 1.5625e-05\n",
            "Epoch 262/300\n",
            "16/16 [==============================] - 0s 8ms/step - loss: 0.0256 - mae: 0.1195 - val_loss: 0.0255 - val_mae: 0.1225 - lr: 1.5625e-05\n",
            "Epoch 263/300\n",
            "16/16 [==============================] - 0s 6ms/step - loss: 0.0254 - mae: 0.1192 - val_loss: 0.0255 - val_mae: 0.1225 - lr: 1.5625e-05\n",
            "Epoch 264/300\n",
            "16/16 [==============================] - 0s 7ms/step - loss: 0.0254 - mae: 0.1191 - val_loss: 0.0255 - val_mae: 0.1225 - lr: 1.5625e-05\n",
            "Epoch 265/300\n",
            "16/16 [==============================] - 0s 5ms/step - loss: 0.0254 - mae: 0.1193 - val_loss: 0.0255 - val_mae: 0.1225 - lr: 1.5625e-05\n",
            "Epoch 266/300\n",
            "16/16 [==============================] - 0s 7ms/step - loss: 0.0252 - mae: 0.1187 - val_loss: 0.0255 - val_mae: 0.1225 - lr: 1.5625e-05\n",
            "Epoch 267/300\n",
            "16/16 [==============================] - 0s 6ms/step - loss: 0.0253 - mae: 0.1190 - val_loss: 0.0255 - val_mae: 0.1225 - lr: 1.5625e-05\n",
            "Epoch 268/300\n",
            "16/16 [==============================] - 0s 6ms/step - loss: 0.0254 - mae: 0.1192 - val_loss: 0.0255 - val_mae: 0.1225 - lr: 1.5625e-05\n",
            "Epoch 269/300\n",
            "16/16 [==============================] - 0s 6ms/step - loss: 0.0255 - mae: 0.1196 - val_loss: 0.0255 - val_mae: 0.1225 - lr: 1.5625e-05\n",
            "Epoch 270/300\n",
            "16/16 [==============================] - 0s 7ms/step - loss: 0.0253 - mae: 0.1186 - val_loss: 0.0255 - val_mae: 0.1225 - lr: 1.5625e-05\n",
            "Epoch 271/300\n",
            "16/16 [==============================] - 0s 7ms/step - loss: 0.0252 - mae: 0.1187 - val_loss: 0.0255 - val_mae: 0.1225 - lr: 1.5625e-05\n",
            "Epoch 272/300\n",
            "16/16 [==============================] - 0s 7ms/step - loss: 0.0254 - mae: 0.1194 - val_loss: 0.0255 - val_mae: 0.1225 - lr: 1.5625e-05\n",
            "Epoch 273/300\n",
            "16/16 [==============================] - 0s 6ms/step - loss: 0.0255 - mae: 0.1195 - val_loss: 0.0255 - val_mae: 0.1225 - lr: 1.5625e-05\n",
            "Epoch 274/300\n",
            "16/16 [==============================] - 0s 7ms/step - loss: 0.0256 - mae: 0.1197 - val_loss: 0.0255 - val_mae: 0.1225 - lr: 1.5625e-05\n",
            "Epoch 275/300\n",
            "16/16 [==============================] - 0s 7ms/step - loss: 0.0254 - mae: 0.1192 - val_loss: 0.0255 - val_mae: 0.1225 - lr: 1.5625e-05\n",
            "Epoch 276/300\n",
            "16/16 [==============================] - 0s 6ms/step - loss: 0.0255 - mae: 0.1198 - val_loss: 0.0255 - val_mae: 0.1225 - lr: 1.5625e-05\n",
            "Epoch 277/300\n",
            "16/16 [==============================] - 0s 7ms/step - loss: 0.0255 - mae: 0.1196 - val_loss: 0.0255 - val_mae: 0.1225 - lr: 1.5625e-05\n",
            "Epoch 278/300\n",
            "16/16 [==============================] - 0s 6ms/step - loss: 0.0253 - mae: 0.1189 - val_loss: 0.0255 - val_mae: 0.1225 - lr: 1.5625e-05\n",
            "Epoch 279/300\n",
            "16/16 [==============================] - 0s 7ms/step - loss: 0.0254 - mae: 0.1191 - val_loss: 0.0255 - val_mae: 0.1225 - lr: 1.5625e-05\n",
            "Epoch 280/300\n",
            "16/16 [==============================] - 0s 6ms/step - loss: 0.0253 - mae: 0.1193 - val_loss: 0.0255 - val_mae: 0.1225 - lr: 1.5625e-05\n",
            "Epoch 281/300\n",
            "16/16 [==============================] - 0s 7ms/step - loss: 0.0254 - mae: 0.1190 - val_loss: 0.0255 - val_mae: 0.1225 - lr: 1.5625e-05\n",
            "Epoch 282/300\n",
            "16/16 [==============================] - 0s 8ms/step - loss: 0.0253 - mae: 0.1190 - val_loss: 0.0255 - val_mae: 0.1225 - lr: 1.5625e-05\n",
            "Epoch 283/300\n",
            "16/16 [==============================] - 0s 10ms/step - loss: 0.0253 - mae: 0.1189 - val_loss: 0.0255 - val_mae: 0.1225 - lr: 1.5625e-05\n",
            "Epoch 284/300\n",
            "16/16 [==============================] - 0s 9ms/step - loss: 0.0255 - mae: 0.1196 - val_loss: 0.0255 - val_mae: 0.1225 - lr: 7.8125e-06\n",
            "Epoch 285/300\n",
            "16/16 [==============================] - 0s 9ms/step - loss: 0.0253 - mae: 0.1189 - val_loss: 0.0255 - val_mae: 0.1225 - lr: 7.8125e-06\n",
            "Epoch 286/300\n",
            "16/16 [==============================] - 0s 9ms/step - loss: 0.0254 - mae: 0.1194 - val_loss: 0.0255 - val_mae: 0.1225 - lr: 7.8125e-06\n",
            "Epoch 287/300\n",
            "16/16 [==============================] - 0s 8ms/step - loss: 0.0255 - mae: 0.1194 - val_loss: 0.0255 - val_mae: 0.1225 - lr: 7.8125e-06\n",
            "Epoch 288/300\n",
            "16/16 [==============================] - 0s 8ms/step - loss: 0.0253 - mae: 0.1192 - val_loss: 0.0255 - val_mae: 0.1225 - lr: 7.8125e-06\n",
            "Epoch 289/300\n",
            "16/16 [==============================] - 0s 9ms/step - loss: 0.0254 - mae: 0.1195 - val_loss: 0.0255 - val_mae: 0.1225 - lr: 7.8125e-06\n",
            "Epoch 290/300\n",
            "16/16 [==============================] - 0s 8ms/step - loss: 0.0253 - mae: 0.1191 - val_loss: 0.0255 - val_mae: 0.1225 - lr: 7.8125e-06\n",
            "Epoch 291/300\n",
            "16/16 [==============================] - 0s 10ms/step - loss: 0.0254 - mae: 0.1196 - val_loss: 0.0255 - val_mae: 0.1225 - lr: 7.8125e-06\n",
            "Epoch 292/300\n",
            "16/16 [==============================] - 0s 8ms/step - loss: 0.0254 - mae: 0.1193 - val_loss: 0.0255 - val_mae: 0.1225 - lr: 7.8125e-06\n",
            "Epoch 293/300\n",
            "16/16 [==============================] - 0s 8ms/step - loss: 0.0252 - mae: 0.1187 - val_loss: 0.0255 - val_mae: 0.1225 - lr: 7.8125e-06\n",
            "Epoch 294/300\n",
            "16/16 [==============================] - 0s 9ms/step - loss: 0.0253 - mae: 0.1192 - val_loss: 0.0255 - val_mae: 0.1225 - lr: 7.8125e-06\n",
            "Epoch 295/300\n",
            "16/16 [==============================] - 0s 9ms/step - loss: 0.0254 - mae: 0.1194 - val_loss: 0.0255 - val_mae: 0.1225 - lr: 7.8125e-06\n",
            "Epoch 296/300\n",
            "16/16 [==============================] - 0s 8ms/step - loss: 0.0254 - mae: 0.1194 - val_loss: 0.0255 - val_mae: 0.1225 - lr: 7.8125e-06\n",
            "Epoch 297/300\n",
            "16/16 [==============================] - 0s 9ms/step - loss: 0.0254 - mae: 0.1193 - val_loss: 0.0255 - val_mae: 0.1225 - lr: 7.8125e-06\n",
            "Epoch 298/300\n",
            "16/16 [==============================] - 0s 9ms/step - loss: 0.0254 - mae: 0.1192 - val_loss: 0.0255 - val_mae: 0.1225 - lr: 7.8125e-06\n",
            "Epoch 299/300\n",
            "16/16 [==============================] - 0s 9ms/step - loss: 0.0253 - mae: 0.1191 - val_loss: 0.0255 - val_mae: 0.1225 - lr: 7.8125e-06\n",
            "Epoch 300/300\n",
            "16/16 [==============================] - 0s 9ms/step - loss: 0.0255 - mae: 0.1197 - val_loss: 0.0255 - val_mae: 0.1225 - lr: 7.8125e-06\n"
          ]
        }
      ]
    },
    {
      "cell_type": "code",
      "source": [
        "import matplotlib.pyplot as plt\n",
        "\n",
        "plt.plot(h.history['mae'])\n",
        "plt.plot(h.history['val_mae'])\n",
        "plt.legend([\"train\", \"val\"])"
      ],
      "metadata": {
        "colab": {
          "base_uri": "https://localhost:8080/",
          "height": 448
        },
        "id": "P0lJ7ofX8ALt",
        "outputId": "d87bc9e7-724a-41b6-b206-8103d83b0b46"
      },
      "execution_count": 53,
      "outputs": [
        {
          "output_type": "execute_result",
          "data": {
            "text/plain": [
              "<matplotlib.legend.Legend at 0x7abbfa4961a0>"
            ]
          },
          "metadata": {},
          "execution_count": 53
        },
        {
          "output_type": "display_data",
          "data": {
            "text/plain": [
              "<Figure size 640x480 with 1 Axes>"
            ],
            "image/png": "[encoded data removed]"
          },
          "metadata": {}
        }
      ]
    },
    {
      "cell_type": "code",
      "source": [
        "# Evaluate the model\n",
        "loss, mae = model.evaluate(\n",
        "    [X_test[\"day_of_week\"], X_test[[\"temp\", \"humidity\", \"windspeed\"]]],\n",
        "    y_test\n",
        ")\n",
        "\n",
        "print(f'Test Loss (MSE): {loss:.4f}')\n",
        "print(f'Test MAE: {mae:.4f}')"
      ],
      "metadata": {
        "colab": {
          "base_uri": "https://localhost:8080/"
        },
        "id": "qQD2PLMR8VwY",
        "outputId": "d52b0fb8-8c92-47af-8728-8b6a5265e0b6"
      },
      "execution_count": 59,
      "outputs": [
        {
          "output_type": "stream",
          "name": "stdout",
          "text": [
            "69/69 [==============================] - 0s 2ms/step - loss: 0.0244 - mae: 0.1157\n",
            "Test Loss (MSE): 0.0244\n",
            "Test MAE: 0.1157\n"
          ]
        }
      ]
    },
    {
      "cell_type": "code",
      "source": [
        "result = model.predict([X_test[\"day_of_week\"], X_test[[\"temp\", \"humidity\", \"windspeed\"]]])"
      ],
      "metadata": {
        "colab": {
          "base_uri": "https://localhost:8080/"
        },
        "id": "0zqYKwV59TUp",
        "outputId": "c2ea14df-1103-4e3d-fc0c-63964ac18d19"
      },
      "execution_count": 60,
      "outputs": [
        {
          "output_type": "stream",
          "name": "stdout",
          "text": [
            "69/69 [==============================] - 0s 2ms/step\n"
          ]
        }
      ]
    },
    {
      "cell_type": "code",
      "source": [
        "[print(round(list(y_test)[i]*m) , round(result[i][0]*m)) for i in range(20)];"
      ],
      "metadata": {
        "colab": {
          "base_uri": "https://localhost:8080/"
        },
        "id": "dNMmb97Z9gvP",
        "outputId": "0d149bde-1a07-48d5-a85f-093e1f45fb2e"
      },
      "execution_count": 61,
      "outputs": [
        {
          "output_type": "stream",
          "name": "stdout",
          "text": [
            "127 269\n",
            "13 66\n",
            "163 94\n",
            "233 270\n",
            "222 274\n",
            "166 153\n",
            "144 184\n",
            "376 370\n",
            "601 138\n",
            "53 108\n",
            "6 53\n",
            "14 176\n",
            "209 277\n",
            "62 101\n",
            "139 343\n",
            "9 121\n",
            "96 160\n",
            "98 237\n",
            "230 148\n",
            "12 216\n"
          ]
        }
      ]
    },
    {
      "cell_type": "markdown",
      "source": [
        "## Lets Visualize!"
      ],
      "metadata": {
        "id": "thvGd2sJG-o4"
      }
    },
    {
      "cell_type": "code",
      "source": [
        "# Extract embeddings from the trained model\n",
        "embedding_layer = model.layers[1]  # Assuming the embedding layer is the 2nd layer in your model\n",
        "embedding_weights = embedding_layer.get_weights()[0]\n",
        "embedding_weights.shape"
      ],
      "metadata": {
        "colab": {
          "base_uri": "https://localhost:8080/"
        },
        "id": "TiVKgfZwCA6F",
        "outputId": "4f42df42-252f-4fe4-8c1c-47f1ba6e9714"
      },
      "execution_count": 62,
      "outputs": [
        {
          "output_type": "execute_result",
          "data": {
            "text/plain": [
              "(7, 3)"
            ]
          },
          "metadata": {},
          "execution_count": 62
        }
      ]
    },
    {
      "cell_type": "code",
      "source": [
        "from sklearn.decomposition import PCA\n",
        "import matplotlib.pyplot as plt\n",
        "\n",
        "\n",
        "# Apply PCA to reduce embeddings to 2D space\n",
        "pca = PCA(n_components=2)\n",
        "pca_embeddings = pca.fit_transform(embedding_weights)\n",
        "\n",
        "# Day labels\n",
        "day_labels = [\"Mon\", \"Tue\", \"Wed\", \"Thu\", \"Fri\", \"Sat\", \"Sun\"]\n",
        "\n",
        "# Create a scatter plot with text labels\n",
        "plt.figure(figsize=(8, 6))\n",
        "for i, (x, y) in enumerate(pca_embeddings):\n",
        "    plt.scatter(x, y, s=100)\n",
        "    plt.annotate(day_labels[i], (x, y), textcoords=\"offset points\", xytext=(0, 10), ha=\"center\")\n",
        "\n",
        "plt.title(\"PCA Visualization of Day of Week Embeddings\")\n",
        "plt.xlabel(\"PCA Dimension 1\")\n",
        "plt.ylabel(\"PCA Dimension 2\")\n",
        "plt.show()\n"
      ],
      "metadata": {
        "colab": {
          "base_uri": "https://localhost:8080/",
          "height": 564
        },
        "id": "OvktaLYCEM2F",
        "outputId": "b4f06441-215c-46d7-ee11-daed368c2049"
      },
      "execution_count": 63,
      "outputs": [
        {
          "output_type": "display_data",
          "data": {
            "text/plain": [
              "<Figure size 800x600 with 1 Axes>"
            ],
            "image/png": "[encoded data removed]"
          },
          "metadata": {}
        }
      ]
    },
    {
      "cell_type": "markdown",
      "source": [
        "https://class.vision"
      ],
      "metadata": {
        "id": "A6YWW8_4HGiQ"
      }
    }
  ]
}