{
  "cells": [
    {
      "cell_type": "code",
      "execution_count": 89,
      "metadata": {
        "id": "8RZOuS9LWQvv"
      },
      "outputs": [],
      "source": [
        "import matplotlib.pyplot as plt\n",
        "import os\n",
        "import re\n",
        "import shutil\n",
        "import string\n",
        "import tensorflow as tf\n",
        "\n",
        "from tensorflow.keras import layers\n",
        "from tensorflow.keras import losses\n"
      ]
    },
    {
      "cell_type": "code",
      "execution_count": 90,
      "metadata": {
        "id": "6-tTFS04dChr",
        "outputId": "1292c11a-bd42-42cd-9999-387752e20735",
        "colab": {
          "base_uri": "https://localhost:8080/"
        }
      },
      "outputs": [
        {
          "output_type": "stream",
          "name": "stdout",
          "text": [
            "2.13.0\n"
          ]
        }
      ],
      "source": [
        "print(tf.__version__)"
      ]
    },
    {
      "cell_type": "code",
      "execution_count": 91,
      "metadata": {
        "id": "k7ZYnuajVlFN"
      },
      "outputs": [],
      "source": [
        "url = \"https://github.com/Alireza-Akhavan/text-classification/raw/main/6-persian-topics.zip\"\n",
        "\n",
        "dataset = tf.keras.utils.get_file(\"6-persian-topics.zip\", url,\n",
        "                                    extract=True, cache_dir='.',\n",
        "                                    cache_subdir='')\n",
        "\n",
        "dataset_dir = os.path.join(os.path.dirname(dataset), '6-persian-topics')"
      ]
    },
    {
      "cell_type": "code",
      "execution_count": 92,
      "metadata": {
        "id": "355CfOvsV1pl",
        "outputId": "92d8e19f-7f01-4a57-db23-a976804779d3",
        "colab": {
          "base_uri": "https://localhost:8080/"
        }
      },
      "outputs": [
        {
          "output_type": "execute_result",
          "data": {
            "text/plain": [
              "['بهداشت و سلامت',\n",
              " 'جغرافیا و مکانها',\n",
              " 'ورزش',\n",
              " 'فناوری و علوم کاربردی و تکنولوژی',\n",
              " 'ریاضیات',\n",
              " 'دین و اعتقاد']"
            ]
          },
          "metadata": {},
          "execution_count": 92
        }
      ],
      "source": [
        "os.listdir(dataset_dir)"
      ]
    },
    {
      "cell_type": "code",
      "execution_count": 93,
      "metadata": {
        "id": "R7g8hFvzWLIZ",
        "outputId": "5356d5fa-da52-4afc-a014-1e3270fb1ec2",
        "colab": {
          "base_uri": "https://localhost:8080/"
        }
      },
      "outputs": [
        {
          "output_type": "stream",
          "name": "stdout",
          "text": [
            "نظریه انشعاب یا نظریه دوشاخگی (به انگلیسی: Bifurcation theory) به مطالعه ریاضیِ تغییرات کیفی یا توپولوژیکی ساختار حوزه‌هایی مانند منحنی‌های انتگرالِ میدان برداری و حل معادله دیفرانسیل می‌پردازد. نظریه انشعاب در بررسیِ سیستم پویا کاربرد دارد. هنگامی که یک تغییر کوچکِ نرم، منجر به تغییر در رفتار سیستم شده و یک انشعاب ناگهانیِ کیفی یا تغییر از نظر توپولوژی اتفاق می‌افتد.\n"
          ]
        }
      ],
      "source": [
        "sample_file = os.path.join(dataset_dir, 'ریاضیات/1000847.txt')\n",
        "with open(sample_file) as f:\n",
        "  print(f.read())"
      ]
    },
    {
      "cell_type": "markdown",
      "metadata": {
        "id": "95kkUdRoaeMw"
      },
      "source": [
        "Next, you will use the `text_dataset_from_directory` utility to create a labeled `tf.data.Dataset`. [tf.data](https://www.tensorflow.org/guide/data) is a powerful collection of tools for working with data.\n",
        "\n",
        "When running a machine learning experiment, it is a best practice to divide your dataset into three splits: [train](https://developers.google.com/machine-learning/glossary#training_set), [validation](https://developers.google.com/machine-learning/glossary#validation_set), and [test](https://developers.google.com/machine-learning/glossary#test-set).\n",
        "\n",
        "The IMDB dataset has already been divided into train and test, but it lacks a validation set. Let's create a validation set using an 80:20 split of the training data by using the `validation_split` argument below."
      ]
    },
    {
      "cell_type": "code",
      "execution_count": 94,
      "metadata": {
        "id": "nOrK-MTYaw3C",
        "outputId": "f8b3954e-ec21-4e32-fc59-b817bf55e9b8",
        "colab": {
          "base_uri": "https://localhost:8080/"
        }
      },
      "outputs": [
        {
          "output_type": "stream",
          "name": "stdout",
          "text": [
            "Found 37573 files belonging to 6 classes.\n",
            "Using 30059 files for training.\n",
            "Found 37573 files belonging to 6 classes.\n",
            "Using 7514 files for validation.\n"
          ]
        }
      ],
      "source": [
        "batch_size = 32\n",
        "seed = 42\n",
        "\n",
        "raw_train_ds = tf.keras.utils.text_dataset_from_directory(\n",
        "    dataset_dir,\n",
        "    batch_size=batch_size,\n",
        "    validation_split=0.2,\n",
        "    subset='training',\n",
        "    seed=seed)\n",
        "\n",
        "raw_val_ds = tf.keras.utils.text_dataset_from_directory(\n",
        "    dataset_dir,\n",
        "    batch_size=batch_size,\n",
        "    validation_split=0.2,\n",
        "    subset='validation',\n",
        "    seed=seed)"
      ]
    },
    {
      "cell_type": "code",
      "execution_count": 95,
      "metadata": {
        "id": "51wNaPPApk1K",
        "outputId": "238cb03f-f8c7-44e0-c000-09c0c4dcbd07",
        "colab": {
          "base_uri": "https://localhost:8080/"
        }
      },
      "outputs": [
        {
          "output_type": "stream",
          "name": "stdout",
          "text": [
            "Review آافیر (به لاتین: Aafir) در الجزایر با جمعیت ۱۲٬۶۱۳ نفر است که در استان بومرداس واقع شده‌است.\n",
            "Label 1\n",
            "Review نبردناو کلاس مونتانا (به انگلیسی: Montana-class battleship) یک کلاس از کشتی است که طول آن ۹۲۰ فوت ۶ اینچ (۲۸۰٫۵۷ متر) می‌باشد.\n",
            "Label 4\n",
            "Review کن فِم (به آلمانی: KenFM)، یک پایگاه خبری تحلیلی آلمانی است.\n",
            "Label 4\n",
            "Review شهرستان آدامز، کلرادو (به انگلیسی: Adams County, Colorado) یک سکونتگاه مسکونی در ایالات متحده آمریکا است که در کلرادو واقع شده‌است.\n",
            "Label 1\n",
            "Review موشان (به لاتین: Mosjøen) (تلفظ نروژی: [ˈmu:ʃøn] گوش‌دادن ) یک شهرک در نروژ است که در وفسن واقع شده‌است. موشان ۶٫۴۱ کیلومتر مربع مساحت و ۹٬۶۶۵ نفر جمعیت دارد.\n",
            "Label 1\n",
            "Review سیداد کولونیالاین مکان در سال ۱۹۹۰ در میراث جهانی یونسکو به ثبت رسید.\n",
            "Label 1\n",
            "Review ایران از ۱۸ اوت تا ۲ سپتامبر ۲۰۱۸ در بازی‌های آسیایی ۲۰۱۸ در جاکارتا و پالم‌بانگ اندونزی شرکت کرد. ایران از اولین دوره بازی‌ها در دهلی‌نو ۱۹۵۱ در بازی‌های آسیایی شرکت کرده‌است و بهترین دستاورد ایران در سال ۱۹۷۴ بود، زمانی که ایران میزبان این بازی‌ها بود. در تهران، با کسب ۳۶ مدال طلا، ۲۸ نقره و ۱۷ برنز، در رتبه دوم قرار گرفت. در آخرین تجربه در اینچئون، این کشور با ۵۷ مدال در مجموع - ۲۱ طلا، ۱۸ نقره و ۱۸ برنز کار خود را به پایان رساند.\n",
            "Label 5\n",
            "Review ایالت کوگی (به لاتین: Kogi) یک ایالت در نیجریه است که ۲۹٬۸۳۳ کیلومترمربع مساحت و ۲٬۰۹۹٬۰۴۶ نفر جمعیت دارد.\n",
            "Label 1\n",
            "Review استان آتلانتیک (به لاتین: Atlantique Department) یک استان در بنین است.\n",
            "Label 1\n",
            "Review صومعه یوسته (به اسپانیایی: Monastery of Yuste) یک صومعه در روستایی کوچک به نام سان یوسته (اسپانیایی: San Yuste‎ به معنی قدیس عادل) در استان کاسرس در بخش خودمختار اکسترمادورای اسپانیا است. این صومعه در سال ۱۴۰۲ تأسیس شد.\n",
            "Label 1\n"
          ]
        }
      ],
      "source": [
        "for text_batch, label_batch in raw_train_ds.take(1):\n",
        "  for i in range(10):\n",
        "    print(\"Review\", text_batch.numpy()[i].decode()) #use decode for persian text\n",
        "    print(\"Label\", label_batch.numpy()[i])"
      ]
    },
    {
      "cell_type": "markdown",
      "metadata": {
        "id": "JWq1SUIrp1a-"
      },
      "source": [
        "Notice the reviews contain raw text (with punctuation and occasional HTML tags like `<br/>`). You will show how to handle these in the following section.\n",
        "\n",
        "The labels are 0 or 1. To see which of these correspond to positive and negative movie reviews, you can check the `class_names` property on the dataset.\n"
      ]
    },
    {
      "cell_type": "code",
      "execution_count": 96,
      "metadata": {
        "id": "MlICTG8spyO2",
        "outputId": "2ebbe130-d05a-4107-fd2d-5244d809cbe0",
        "colab": {
          "base_uri": "https://localhost:8080/"
        }
      },
      "outputs": [
        {
          "output_type": "stream",
          "name": "stdout",
          "text": [
            "Label 0 corresponds to بهداشت و سلامت\n",
            "Label 1 corresponds to جغرافیا و مکانها\n",
            "Label 2 corresponds to دین و اعتقاد\n",
            "Label 3 corresponds to ریاضیات\n",
            "Label 4 corresponds to فناوری و علوم کاربردی و تکنولوژی\n",
            "Label 5 corresponds to ورزش\n"
          ]
        }
      ],
      "source": [
        "for i in range(6):\n",
        "  print(\"Label {} corresponds to {}\".format(i, raw_train_ds.class_names[i]))\n"
      ]
    },
    {
      "cell_type": "markdown",
      "metadata": {
        "id": "pbdO39vYqdJr"
      },
      "source": [
        "Next, you will create a validation and test dataset. You will use the remaining 5,000 reviews from the training set for validation."
      ]
    },
    {
      "cell_type": "markdown",
      "metadata": {
        "id": "SzxazN8Hq1pF"
      },
      "source": [
        "Note:  When using the `validation_split` and `subset` arguments, make sure to either specify a random seed, or to pass `shuffle=False`, so that the validation and training splits have no overlap."
      ]
    },
    {
      "cell_type": "markdown",
      "metadata": {
        "id": "qJmTiO0IYAjm"
      },
      "source": [
        "### Prepare the dataset for training\n",
        "\n",
        "Next, you will standardize, tokenize, and vectorize the data using the helpful `tf.keras.layers.TextVectorization` layer.\n",
        "\n",
        "Standardization refers to preprocessing the text, typically to remove punctuation or HTML elements to simplify the dataset. Tokenization refers to splitting strings into tokens (for example, splitting a sentence into individual words, by splitting on whitespace). Vectorization refers to converting tokens into numbers so they can be fed into a neural network. All of these tasks can be accomplished with this layer.\n",
        "\n",
        "As you saw above, the reviews contain various HTML tags like `<br />`. These tags will not be removed by the default standardizer in the `TextVectorization` layer (which converts text to lowercase and strips punctuation by default, but doesn't strip HTML). You will write a custom standardization function to remove the HTML."
      ]
    },
    {
      "cell_type": "markdown",
      "metadata": {
        "id": "ZVcHl-SLrH-u"
      },
      "source": [
        "Note: To prevent [training-testing skew](https://developers.google.com/machine-learning/guides/rules-of-ml#training-serving_skew) (also known as training-serving skew), it is important to preprocess the data identically at train and test time. To facilitate this, the `TextVectorization` layer can be included directly inside your model, as shown later in this tutorial."
      ]
    },
    {
      "cell_type": "code",
      "execution_count": 97,
      "metadata": {
        "id": "SDRI_s_tX1Hk"
      },
      "outputs": [],
      "source": [
        "def custom_standardization(input_data):\n",
        "  lowercase = tf.strings.lower(input_data)\n",
        "  stripped_html = tf.strings.regex_replace(lowercase, '<br />', ' ')\n",
        "  stripped_ye = tf.strings.regex_replace(stripped_html, 'ي', 'ی')\n",
        "  return tf.strings.regex_replace(stripped_ye,\n",
        "                                  '[%s]' % re.escape(string.punctuation),\n",
        "                                  '')"
      ]
    },
    {
      "cell_type": "code",
      "source": [
        "txt = \" براي برای\"\n",
        "print(txt)\n",
        "print(custom_standardization(txt).numpy().decode())"
      ],
      "metadata": {
        "id": "6EFEc9O-HwSU",
        "outputId": "989d1adb-d963-453e-8ba9-f0ca5ea34d9a",
        "colab": {
          "base_uri": "https://localhost:8080/"
        }
      },
      "execution_count": 98,
      "outputs": [
        {
          "output_type": "stream",
          "name": "stdout",
          "text": [
            " براي برای\n",
            " برای برای\n"
          ]
        }
      ]
    },
    {
      "cell_type": "markdown",
      "metadata": {
        "id": "d2d3Aw8dsUux"
      },
      "source": [
        "Next, you will create a `TextVectorization` layer. You will use this layer to standardize, tokenize, and vectorize our data. You set the `output_mode` to `int` to create unique integer indices for each token.\n",
        "\n",
        "Note that you're using the default split function, and the custom standardization function you defined above. You'll also define some constants for the model, like an explicit maximum `sequence_length`, which will cause the layer to pad or truncate sequences to exactly `sequence_length` values."
      ]
    },
    {
      "cell_type": "code",
      "execution_count": 99,
      "metadata": {
        "id": "-c76RvSzsMnX"
      },
      "outputs": [],
      "source": [
        "max_features = 10000\n",
        "sequence_length = 250\n",
        "\n",
        "vectorize_layer = layers.TextVectorization(\n",
        "    standardize=custom_standardization,\n",
        "    max_tokens=max_features,\n",
        "    output_mode='int',\n",
        "    output_sequence_length=sequence_length)"
      ]
    },
    {
      "cell_type": "markdown",
      "metadata": {
        "id": "vlFOpfF6scT6"
      },
      "source": [
        "Next, you will call `adapt` to fit the state of the preprocessing layer to the dataset. This will cause the model to build an index of strings to integers."
      ]
    },
    {
      "cell_type": "markdown",
      "metadata": {
        "id": "lAhdjK7AtroA"
      },
      "source": [
        "Note: It's important to only use your training data when calling adapt (using the test set would leak information)."
      ]
    },
    {
      "cell_type": "code",
      "execution_count": 100,
      "metadata": {
        "id": "GH4_2ZGJsa_X"
      },
      "outputs": [],
      "source": [
        "# Make a text-only dataset (without labels), then call adapt\n",
        "train_text = raw_train_ds.map(lambda x, y: x)\n",
        "vectorize_layer.adapt(train_text)"
      ]
    },
    {
      "cell_type": "markdown",
      "metadata": {
        "id": "SHQVEFzNt-K_"
      },
      "source": [
        "Let's create a function to see the result of using this layer to preprocess some data."
      ]
    },
    {
      "cell_type": "code",
      "execution_count": 101,
      "metadata": {
        "id": "SCIg_T50wOCU"
      },
      "outputs": [],
      "source": [
        "def vectorize_text(text, label):\n",
        "  text = tf.expand_dims(text, -1)\n",
        "  return vectorize_layer(text), label"
      ]
    },
    {
      "cell_type": "code",
      "execution_count": 102,
      "metadata": {
        "id": "XULcm6B3xQIO",
        "outputId": "c5366e66-1407-49ff-c70d-6c2eeac040e3",
        "colab": {
          "base_uri": "https://localhost:8080/"
        }
      },
      "outputs": [
        {
          "output_type": "stream",
          "name": "stdout",
          "text": [
            "Review شبه‌جزیره چهارکان (روسی: Челекен полуостров) (نام‌های دیگر: چله‌کن، نفتونیا، جزیره نفت) شبه‌جزیره‌ای است در غرب ترکمنستان، در سواحل شرقی دریای خزر. شهر خزر (چهارکان سابق) در این شبه‌جزیره واقع شده‌است که از لحاظ اداری به استان بلخان ترکمنستان تعلق دارد.\n",
            "Label جغرافیا و مکانها\n",
            "Vectorized review (<tf.Tensor: shape=(1, 250), dtype=int64, numpy=\n",
            "array([[1343,    1,  235,    1,    1,  913,  123,    1,    1,  178, 1761,\n",
            "        9178,    5,    2,  137,    1,    2, 1926,  110,  254, 3000,   22,\n",
            "        3000,    1, 1026,    2,    8, 1343,   10,   11,    6,    7, 1454,\n",
            "         599,    3,   25, 8473, 1192, 3452,   18,    0,    0,    0,    0,\n",
            "           0,    0,    0,    0,    0,    0,    0,    0,    0,    0,    0,\n",
            "           0,    0,    0,    0,    0,    0,    0,    0,    0,    0,    0,\n",
            "           0,    0,    0,    0,    0,    0,    0,    0,    0,    0,    0,\n",
            "           0,    0,    0,    0,    0,    0,    0,    0,    0,    0,    0,\n",
            "           0,    0,    0,    0,    0,    0,    0,    0,    0,    0,    0,\n",
            "           0,    0,    0,    0,    0,    0,    0,    0,    0,    0,    0,\n",
            "           0,    0,    0,    0,    0,    0,    0,    0,    0,    0,    0,\n",
            "           0,    0,    0,    0,    0,    0,    0,    0,    0,    0,    0,\n",
            "           0,    0,    0,    0,    0,    0,    0,    0,    0,    0,    0,\n",
            "           0,    0,    0,    0,    0,    0,    0,    0,    0,    0,    0,\n",
            "           0,    0,    0,    0,    0,    0,    0,    0,    0,    0,    0,\n",
            "           0,    0,    0,    0,    0,    0,    0,    0,    0,    0,    0,\n",
            "           0,    0,    0,    0,    0,    0,    0,    0,    0,    0,    0,\n",
            "           0,    0,    0,    0,    0,    0,    0,    0,    0,    0,    0,\n",
            "           0,    0,    0,    0,    0,    0,    0,    0,    0,    0,    0,\n",
            "           0,    0,    0,    0,    0,    0,    0,    0,    0,    0,    0,\n",
            "           0,    0,    0,    0,    0,    0,    0,    0,    0,    0,    0,\n",
            "           0,    0,    0,    0,    0,    0,    0,    0,    0,    0,    0,\n",
            "           0,    0,    0,    0,    0,    0,    0,    0]])>, <tf.Tensor: shape=(), dtype=int32, numpy=1>)\n"
          ]
        }
      ],
      "source": [
        "# retrieve a batch (of 32 reviews and labels) from the dataset\n",
        "text_batch, label_batch = next(iter(raw_train_ds))\n",
        "first_review, first_label = text_batch[0], label_batch[0]\n",
        "print(\"Review\", first_review.numpy().decode())\n",
        "print(\"Label\", raw_train_ds.class_names[first_label])\n",
        "print(\"Vectorized review\", vectorize_text(first_review, first_label))"
      ]
    },
    {
      "cell_type": "markdown",
      "metadata": {
        "id": "6u5EX0hxyNZT"
      },
      "source": [
        "As you can see above, each token has been replaced by an integer. You can lookup the token (string) that each integer corresponds to by calling `.get_vocabulary()` on the layer."
      ]
    },
    {
      "cell_type": "code",
      "execution_count": 103,
      "metadata": {
        "id": "kRq9hTQzhVhW",
        "outputId": "b8d60bee-2d44-4d6a-a376-3a787d8a07ca",
        "colab": {
          "base_uri": "https://localhost:8080/"
        }
      },
      "outputs": [
        {
          "output_type": "stream",
          "name": "stdout",
          "text": [
            "1287 --->  خودرویی\n",
            " 313 --->  روستا\n",
            "Vocabulary size: 10000\n"
          ]
        }
      ],
      "source": [
        "print(\"1287 ---> \",vectorize_layer.get_vocabulary()[1287])\n",
        "print(\" 313 ---> \",vectorize_layer.get_vocabulary()[313])\n",
        "print('Vocabulary size: {}'.format(len(vectorize_layer.get_vocabulary())))"
      ]
    },
    {
      "cell_type": "markdown",
      "metadata": {
        "id": "XD2H6utRydGv"
      },
      "source": [
        "You are nearly ready to train your model. As a final preprocessing step, you will apply the TextVectorization layer you created earlier to the train, validation, and test dataset."
      ]
    },
    {
      "cell_type": "code",
      "source": [
        "a, b = next(iter(raw_train_ds))\n",
        "print(a.shape, b.shape)"
      ],
      "metadata": {
        "id": "ZrMpFD9Q_XSU",
        "outputId": "7ceb2611-f9e6-46fe-c5ba-d3dd1e074b9b",
        "colab": {
          "base_uri": "https://localhost:8080/"
        }
      },
      "execution_count": 104,
      "outputs": [
        {
          "output_type": "stream",
          "name": "stdout",
          "text": [
            "(32,) (32,)\n"
          ]
        }
      ]
    },
    {
      "cell_type": "code",
      "source": [
        "vectorize_text(a[0], 0)"
      ],
      "metadata": {
        "id": "3kcu6mFd_dkS",
        "outputId": "72b2a750-ca4a-4ba9-df42-3a66c5905605",
        "colab": {
          "base_uri": "https://localhost:8080/"
        }
      },
      "execution_count": 105,
      "outputs": [
        {
          "output_type": "execute_result",
          "data": {
            "text/plain": [
              "(<tf.Tensor: shape=(1, 250), dtype=int64, numpy=\n",
              " array([[ 138,  591,  117, 7138, 1426,    1,    1,  210,    1,  138,  156,\n",
              "          591,    2,   22,    1,  657,    5,    0,    0,    0,    0,    0,\n",
              "            0,    0,    0,    0,    0,    0,    0,    0,    0,    0,    0,\n",
              "            0,    0,    0,    0,    0,    0,    0,    0,    0,    0,    0,\n",
              "            0,    0,    0,    0,    0,    0,    0,    0,    0,    0,    0,\n",
              "            0,    0,    0,    0,    0,    0,    0,    0,    0,    0,    0,\n",
              "            0,    0,    0,    0,    0,    0,    0,    0,    0,    0,    0,\n",
              "            0,    0,    0,    0,    0,    0,    0,    0,    0,    0,    0,\n",
              "            0,    0,    0,    0,    0,    0,    0,    0,    0,    0,    0,\n",
              "            0,    0,    0,    0,    0,    0,    0,    0,    0,    0,    0,\n",
              "            0,    0,    0,    0,    0,    0,    0,    0,    0,    0,    0,\n",
              "            0,    0,    0,    0,    0,    0,    0,    0,    0,    0,    0,\n",
              "            0,    0,    0,    0,    0,    0,    0,    0,    0,    0,    0,\n",
              "            0,    0,    0,    0,    0,    0,    0,    0,    0,    0,    0,\n",
              "            0,    0,    0,    0,    0,    0,    0,    0,    0,    0,    0,\n",
              "            0,    0,    0,    0,    0,    0,    0,    0,    0,    0,    0,\n",
              "            0,    0,    0,    0,    0,    0,    0,    0,    0,    0,    0,\n",
              "            0,    0,    0,    0,    0,    0,    0,    0,    0,    0,    0,\n",
              "            0,    0,    0,    0,    0,    0,    0,    0,    0,    0,    0,\n",
              "            0,    0,    0,    0,    0,    0,    0,    0,    0,    0,    0,\n",
              "            0,    0,    0,    0,    0,    0,    0,    0,    0,    0,    0,\n",
              "            0,    0,    0,    0,    0,    0,    0,    0,    0,    0,    0,\n",
              "            0,    0,    0,    0,    0,    0,    0,    0]])>,\n",
              " 0)"
            ]
          },
          "metadata": {},
          "execution_count": 105
        }
      ]
    },
    {
      "cell_type": "code",
      "execution_count": 106,
      "metadata": {
        "id": "2zhmpeViI1iG"
      },
      "outputs": [],
      "source": [
        "train_ds = raw_train_ds.map(vectorize_text)\n",
        "val_ds = raw_val_ds.map(vectorize_text)"
      ]
    },
    {
      "cell_type": "code",
      "source": [
        "a, b = next(iter(train_ds))\n",
        "a[0]"
      ],
      "metadata": {
        "id": "7amzeMTS_s20",
        "outputId": "1f34484d-2f2e-41e7-cd71-27b3bbb1eb5e",
        "colab": {
          "base_uri": "https://localhost:8080/"
        }
      },
      "execution_count": 107,
      "outputs": [
        {
          "output_type": "execute_result",
          "data": {
            "text/plain": [
              "<tf.Tensor: shape=(250,), dtype=int64, numpy=\n",
              "array([   2,  964,    1,  449,  780, 9270, 3742, 1845,    7, 6938, 4859,\n",
              "       1471,  158,    4,  420,   13,    1,    2,    1,    1,    4,    1,\n",
              "        308,   16,    6,  164,    7,    8, 1744,    7,  386, 4479, 6640,\n",
              "       1798,    1,    7,  387, 1025,  660, 9494,    1,    3,  181,    1,\n",
              "       1744,  327,    8,    1,    1,   29, 9415, 2989,   11,    0,    0,\n",
              "          0,    0,    0,    0,    0,    0,    0,    0,    0,    0,    0,\n",
              "          0,    0,    0,    0,    0,    0,    0,    0,    0,    0,    0,\n",
              "          0,    0,    0,    0,    0,    0,    0,    0,    0,    0,    0,\n",
              "          0,    0,    0,    0,    0,    0,    0,    0,    0,    0,    0,\n",
              "          0,    0,    0,    0,    0,    0,    0,    0,    0,    0,    0,\n",
              "          0,    0,    0,    0,    0,    0,    0,    0,    0,    0,    0,\n",
              "          0,    0,    0,    0,    0,    0,    0,    0,    0,    0,    0,\n",
              "          0,    0,    0,    0,    0,    0,    0,    0,    0,    0,    0,\n",
              "          0,    0,    0,    0,    0,    0,    0,    0,    0,    0,    0,\n",
              "          0,    0,    0,    0,    0,    0,    0,    0,    0,    0,    0,\n",
              "          0,    0,    0,    0,    0,    0,    0,    0,    0,    0,    0,\n",
              "          0,    0,    0,    0,    0,    0,    0,    0,    0,    0,    0,\n",
              "          0,    0,    0,    0,    0,    0,    0,    0,    0,    0,    0,\n",
              "          0,    0,    0,    0,    0,    0,    0,    0,    0,    0,    0,\n",
              "          0,    0,    0,    0,    0,    0,    0,    0,    0,    0,    0,\n",
              "          0,    0,    0,    0,    0,    0,    0,    0,    0,    0,    0,\n",
              "          0,    0,    0,    0,    0,    0,    0,    0,    0,    0,    0,\n",
              "          0,    0,    0,    0,    0,    0,    0,    0])>"
            ]
          },
          "metadata": {},
          "execution_count": 107
        }
      ]
    },
    {
      "cell_type": "markdown",
      "metadata": {
        "id": "YsVQyPMizjuO"
      },
      "source": [
        "### Configure the dataset for performance\n",
        "\n",
        "These are two important methods you should use when loading data to make sure that I/O does not become blocking.\n",
        "\n",
        "`.cache()` keeps data in memory after it's loaded off disk. This will ensure the dataset does not become a bottleneck while training your model. If your dataset is too large to fit into memory, you can also use this method to create a performant on-disk cache, which is more efficient to read than many small files.\n",
        "\n",
        "`.prefetch()` overlaps data preprocessing and model execution while training.\n",
        "\n",
        "You can learn more about both methods, as well as how to cache data to disk in the [data performance guide](https://www.tensorflow.org/guide/data_performance)."
      ]
    },
    {
      "cell_type": "code",
      "execution_count": 108,
      "metadata": {
        "id": "wMcs_H7izm5m"
      },
      "outputs": [],
      "source": [
        "AUTOTUNE = tf.data.AUTOTUNE\n",
        "\n",
        "train_ds = train_ds.cache().prefetch(buffer_size=AUTOTUNE)\n",
        "val_ds = val_ds.cache().prefetch(buffer_size=AUTOTUNE)\n"
      ]
    },
    {
      "cell_type": "markdown",
      "metadata": {
        "id": "LLC02j2g-llC"
      },
      "source": [
        "### Create the model\n",
        "\n",
        "It's time to create your neural network:"
      ]
    },
    {
      "cell_type": "code",
      "execution_count": null,
      "metadata": {
        "id": "dkQP6in8yUBR"
      },
      "outputs": [],
      "source": [
        "embedding_dim = 16"
      ]
    },
    {
      "cell_type": "code",
      "execution_count": 109,
      "metadata": {
        "id": "xpKOoWgu-llD",
        "outputId": "59e72e5b-ce31-495e-80a1-7432a16b07f0",
        "colab": {
          "base_uri": "https://localhost:8080/"
        }
      },
      "outputs": [
        {
          "output_type": "stream",
          "name": "stdout",
          "text": [
            "Model: \"sequential_2\"\n",
            "_________________________________________________________________\n",
            " Layer (type)                Output Shape              Param #   \n",
            "=================================================================\n",
            " embedding_1 (Embedding)     (None, None, 16)          160000    \n",
            "                                                                 \n",
            " global_average_pooling1d_1  (None, 16)                0         \n",
            "  (GlobalAveragePooling1D)                                       \n",
            "                                                                 \n",
            " dense_2 (Dense)             (None, 100)               1700      \n",
            "                                                                 \n",
            " dropout_1 (Dropout)         (None, 100)               0         \n",
            "                                                                 \n",
            " dense_3 (Dense)             (None, 6)                 606       \n",
            "                                                                 \n",
            "=================================================================\n",
            "Total params: 162306 (634.01 KB)\n",
            "Trainable params: 162306 (634.01 KB)\n",
            "Non-trainable params: 0 (0.00 Byte)\n",
            "_________________________________________________________________\n"
          ]
        }
      ],
      "source": [
        "model = tf.keras.Sequential([\n",
        "  layers.Embedding(max_features, embedding_dim),\n",
        "  layers.GlobalAveragePooling1D(),\n",
        "  layers.Dense(100),\n",
        "  layers.Dropout(0.5),\n",
        "  layers.Dense(6)])\n",
        "\n",
        "model.summary()"
      ]
    },
    {
      "cell_type": "markdown",
      "metadata": {
        "id": "6PbKQ6mucuKL"
      },
      "source": [
        "The layers are stacked sequentially to build the classifier:\n",
        "\n",
        "1. The first layer is an `Embedding` layer. This layer takes the integer-encoded reviews and looks up an embedding vector for each word-index. These vectors are learned as the model trains. The vectors add a dimension to the output array. The resulting dimensions are: `(batch, sequence, embedding)`.  To learn more about embeddings, check out the [Word embeddings](https://www.tensorflow.org/text/guide/word_embeddings) tutorial.\n",
        "2. Next, a `GlobalAveragePooling1D` layer returns a fixed-length output vector for each example by averaging over the sequence dimension. This allows the model to handle input of variable length, in the simplest way possible.\n",
        "3. The last layer is densely connected with a single output node."
      ]
    },
    {
      "cell_type": "markdown",
      "metadata": {
        "id": "L4EqVWg4-llM"
      },
      "source": [
        "### Loss function and optimizer\n",
        "\n",
        "A model needs a loss function and an optimizer for training. Since this is a binary classification problem and the model outputs a probability (a single-unit layer with a sigmoid activation), you'll use `losses.BinaryCrossentropy` loss function.\n",
        "\n",
        "Now, configure the model to use an optimizer and a loss function:"
      ]
    },
    {
      "cell_type": "code",
      "execution_count": 110,
      "metadata": {
        "id": "Mr0GP-cQ-llN"
      },
      "outputs": [],
      "source": [
        "model.compile(loss=losses.SparseCategoricalCrossentropy(from_logits=True),\n",
        "              optimizer='adam',\n",
        "              metrics='accuracy')"
      ]
    },
    {
      "cell_type": "markdown",
      "source": [
        "## calculate class weight"
      ],
      "metadata": {
        "id": "xw4TkixRD0s6"
      }
    },
    {
      "cell_type": "code",
      "source": [
        "# Convert the tf.data.Dataset to a NumPy iterator\n",
        "train_iterator = train_ds.as_numpy_iterator()\n",
        "\n",
        "# Create a dictionary to store the counts for each class\n",
        "class_counts = {}\n",
        "\n",
        "# Iterate over the dataset and count the samples for each class\n",
        "for data, labels in train_iterator:\n",
        "    for label in labels:\n",
        "        class_counts[label] = class_counts.get(label, 0) + 1\n",
        "\n",
        "# Calculate the class weights\n",
        "total_samples = sum(class_counts.values())\n",
        "class_weights = {\n",
        "    label: total_samples / count\n",
        "    for label, count in class_counts.items()\n",
        "}\n",
        "\n",
        "# Print the class counts\n",
        "for label, count in class_counts.items():\n",
        "    print(f\"Class {label}: {count} samples\")\n",
        "\n",
        "# Print the class weights\n",
        "for label, weight in class_weights.items():\n",
        "    print(f\"Class {label} weight: {weight}\")\n"
      ],
      "metadata": {
        "id": "ga8pJ4L9Dzo-",
        "outputId": "aba5e694-a727-4b82-d7c5-e5409d45809f",
        "colab": {
          "base_uri": "https://localhost:8080/"
        }
      },
      "execution_count": 117,
      "outputs": [
        {
          "output_type": "stream",
          "name": "stdout",
          "text": [
            "Class 4: 5171 samples\n",
            "Class 1: 17555 samples\n",
            "Class 5: 5065 samples\n",
            "Class 0: 1534 samples\n",
            "Class 3: 318 samples\n",
            "Class 2: 416 samples\n",
            "Class 4 weight: 5.812995552117579\n",
            "Class 1 weight: 1.7122757049273711\n",
            "Class 5 weight: 5.934649555774926\n",
            "Class 0 weight: 19.595176010430247\n",
            "Class 3 weight: 94.5251572327044\n",
            "Class 2 weight: 72.25721153846153\n"
          ]
        }
      ]
    },
    {
      "cell_type": "markdown",
      "metadata": {
        "id": "35jv_fzP-llU"
      },
      "source": [
        "### Train the model\n",
        "\n",
        "You will train the model by passing the `dataset` object to the fit method."
      ]
    },
    {
      "cell_type": "code",
      "execution_count": 118,
      "metadata": {
        "id": "tXSGrjWZ-llW",
        "outputId": "a369d8b0-e8d4-4fc2-a71c-4b3115d0f832",
        "colab": {
          "base_uri": "https://localhost:8080/"
        }
      },
      "outputs": [
        {
          "output_type": "stream",
          "name": "stdout",
          "text": [
            "Epoch 1/15\n",
            "940/940 [==============================] - 51s 52ms/step - loss: 8.0908 - accuracy: 0.6615 - val_loss: 0.3941 - val_accuracy: 0.9327\n",
            "Epoch 2/15\n",
            "940/940 [==============================] - 5s 5ms/step - loss: 3.1702 - accuracy: 0.9302 - val_loss: 0.2020 - val_accuracy: 0.9448\n",
            "Epoch 3/15\n",
            "940/940 [==============================] - 4s 5ms/step - loss: 1.6960 - accuracy: 0.9474 - val_loss: 0.1495 - val_accuracy: 0.9546\n",
            "Epoch 4/15\n",
            "940/940 [==============================] - 6s 7ms/step - loss: 1.1060 - accuracy: 0.9593 - val_loss: 0.1341 - val_accuracy: 0.9591\n",
            "Epoch 5/15\n",
            "940/940 [==============================] - 4s 4ms/step - loss: 0.7841 - accuracy: 0.9676 - val_loss: 0.1141 - val_accuracy: 0.9651\n",
            "Epoch 6/15\n",
            "940/940 [==============================] - 5s 5ms/step - loss: 0.5898 - accuracy: 0.9724 - val_loss: 0.1062 - val_accuracy: 0.9677\n",
            "Epoch 7/15\n",
            "940/940 [==============================] - 4s 5ms/step - loss: 0.4584 - accuracy: 0.9772 - val_loss: 0.1134 - val_accuracy: 0.9670\n",
            "Epoch 8/15\n",
            "940/940 [==============================] - 5s 5ms/step - loss: 0.3755 - accuracy: 0.9798 - val_loss: 0.0983 - val_accuracy: 0.9718\n",
            "Epoch 9/15\n",
            "940/940 [==============================] - 4s 5ms/step - loss: 0.3199 - accuracy: 0.9826 - val_loss: 0.0999 - val_accuracy: 0.9729\n",
            "Epoch 10/15\n",
            "940/940 [==============================] - 4s 5ms/step - loss: 0.2634 - accuracy: 0.9850 - val_loss: 0.0986 - val_accuracy: 0.9736\n",
            "Epoch 11/15\n",
            "940/940 [==============================] - 5s 5ms/step - loss: 0.2447 - accuracy: 0.9864 - val_loss: 0.0962 - val_accuracy: 0.9752\n",
            "Epoch 12/15\n",
            "940/940 [==============================] - 4s 5ms/step - loss: 0.2117 - accuracy: 0.9879 - val_loss: 0.1041 - val_accuracy: 0.9732\n",
            "Epoch 13/15\n",
            "940/940 [==============================] - 5s 5ms/step - loss: 0.1949 - accuracy: 0.9882 - val_loss: 0.0978 - val_accuracy: 0.9756\n",
            "Epoch 14/15\n",
            "940/940 [==============================] - 4s 5ms/step - loss: 0.1646 - accuracy: 0.9893 - val_loss: 0.0961 - val_accuracy: 0.9798\n",
            "Epoch 15/15\n",
            "940/940 [==============================] - 4s 4ms/step - loss: 0.1605 - accuracy: 0.9899 - val_loss: 0.1007 - val_accuracy: 0.9750\n"
          ]
        }
      ],
      "source": [
        "epochs = 15\n",
        "history = model.fit(\n",
        "    train_ds,\n",
        "    validation_data=val_ds,\n",
        "    epochs=epochs, class_weight=class_weights)"
      ]
    },
    {
      "cell_type": "markdown",
      "metadata": {
        "id": "9EEGuDVuzb5r"
      },
      "source": [
        "### Evaluate the model\n",
        "\n",
        "Let's see how the model performs. Two values will be returned. Loss (a number which represents our error, lower values are better), and accuracy."
      ]
    },
    {
      "cell_type": "markdown",
      "metadata": {
        "id": "z1iEXVTR0Z2t"
      },
      "source": [
        "This fairly naive approach achieves an accuracy of about 86%."
      ]
    },
    {
      "cell_type": "markdown",
      "metadata": {
        "id": "ldbQqCw2Xc1W"
      },
      "source": [
        "### Create a plot of accuracy and loss over time\n",
        "\n",
        "`model.fit()` returns a `History` object that contains a dictionary with everything that happened during training:"
      ]
    },
    {
      "cell_type": "code",
      "execution_count": 119,
      "metadata": {
        "id": "-YcvZsdvWfDf",
        "outputId": "a8a53f91-511c-4684-de62-e685ef70b336",
        "colab": {
          "base_uri": "https://localhost:8080/"
        }
      },
      "outputs": [
        {
          "output_type": "execute_result",
          "data": {
            "text/plain": [
              "dict_keys(['loss', 'accuracy', 'val_loss', 'val_accuracy'])"
            ]
          },
          "metadata": {},
          "execution_count": 119
        }
      ],
      "source": [
        "history_dict = history.history\n",
        "history_dict.keys()"
      ]
    },
    {
      "cell_type": "markdown",
      "metadata": {
        "id": "1_CH32qJXruI"
      },
      "source": [
        "There are four entries: one for each monitored metric during training and validation. You can use these to plot the training and validation loss for comparison, as well as the training and validation accuracy:"
      ]
    },
    {
      "cell_type": "code",
      "execution_count": 120,
      "metadata": {
        "id": "2SEMeQ5YXs8z",
        "outputId": "5818420e-cddc-4aa0-c7ad-a4cc7f352ddc",
        "colab": {
          "base_uri": "https://localhost:8080/",
          "height": 480
        }
      },
      "outputs": [
        {
          "output_type": "display_data",
          "data": {
            "text/plain": [
              "<Figure size 640x480 with 1 Axes>"
            ],
            "image/png": "[encoded data removed]"
          },
          "metadata": {}
        }
      ],
      "source": [
        "acc = history_dict['accuracy']\n",
        "val_acc = history_dict['val_accuracy']\n",
        "loss = history_dict['loss']\n",
        "val_loss = history_dict['val_loss']\n",
        "\n",
        "epochs = range(1, len(acc) + 1)\n",
        "\n",
        "# \"bo\" is for \"blue dot\"\n",
        "plt.plot(epochs, loss, 'bo', label='Training loss')\n",
        "# b is for \"solid blue line\"\n",
        "plt.plot(epochs, val_loss, 'b', label='Validation loss')\n",
        "plt.title('Training and validation loss')\n",
        "plt.xlabel('Epochs')\n",
        "plt.ylabel('Loss')\n",
        "plt.legend()\n",
        "\n",
        "plt.show()"
      ]
    },
    {
      "cell_type": "code",
      "execution_count": 121,
      "metadata": {
        "id": "Z3PJemLPXwz_",
        "outputId": "a7e5c394-7673-4fa1-cbc4-693245e83ed6",
        "colab": {
          "base_uri": "https://localhost:8080/",
          "height": 480
        }
      },
      "outputs": [
        {
          "output_type": "display_data",
          "data": {
            "text/plain": [
              "<Figure size 640x480 with 1 Axes>"
            ],
            "image/png": "[encoded data removed]"
          },
          "metadata": {}
        }
      ],
      "source": [
        "plt.plot(epochs, acc, 'bo', label='Training acc')\n",
        "plt.plot(epochs, val_acc, 'b', label='Validation acc')\n",
        "plt.title('Training and validation accuracy')\n",
        "plt.xlabel('Epochs')\n",
        "plt.ylabel('Accuracy')\n",
        "plt.legend(loc='lower right')\n",
        "\n",
        "plt.show()"
      ]
    },
    {
      "cell_type": "markdown",
      "metadata": {
        "id": "hFFyCuJoXy7r"
      },
      "source": [
        "In this plot, the dots represent the training loss and accuracy, and the solid lines are the validation loss and accuracy.\n",
        "\n",
        "Notice the training loss *decreases* with each epoch and the training accuracy *increases* with each epoch. This is expected when using a gradient descent optimization—it should minimize the desired quantity on every iteration.\n",
        "\n",
        "This isn't the case for the validation loss and accuracy—they seem to peak before the training accuracy. This is an example of overfitting: the model performs better on the training data than it does on data it has never seen before. After this point, the model over-optimizes and learns representations *specific* to the training data that do not *generalize* to test data.\n",
        "\n",
        "For this particular case, you could prevent overfitting by simply stopping the training when the validation accuracy is no longer increasing. One way to do so is to use the `tf.keras.callbacks.EarlyStopping` callback."
      ]
    },
    {
      "cell_type": "markdown",
      "metadata": {
        "id": "-to23J3Vy5d3"
      },
      "source": [
        "## Export the model\n",
        "\n",
        "In the code above, you applied the `TextVectorization` layer to the dataset before feeding text to the model. If you want to make your model capable of processing raw strings (for example, to simplify deploying it), you can include the `TextVectorization` layer inside your model. To do so, you can create a new model using the weights you just trained."
      ]
    },
    {
      "cell_type": "code",
      "execution_count": 122,
      "metadata": {
        "id": "FWXsMvryuZuq",
        "outputId": "734299d9-1090-434a-a9e4-ed6171203e91",
        "colab": {
          "base_uri": "https://localhost:8080/"
        }
      },
      "outputs": [
        {
          "output_type": "stream",
          "name": "stdout",
          "text": [
            "235/235 [==============================] - 2s 5ms/step - loss: 0.1007 - accuracy: 0.9750\n",
            "0.9749800562858582\n"
          ]
        }
      ],
      "source": [
        "export_model = tf.keras.Sequential([\n",
        "  vectorize_layer,\n",
        "  model,\n",
        "  layers.Activation('Softmax')\n",
        "])\n",
        "\n",
        "export_model.compile(\n",
        "    loss=losses.SparseCategoricalCrossentropy(from_logits=False), optimizer=\"adam\", metrics=['accuracy']\n",
        ")\n",
        "\n",
        "# Test it with `raw_test_ds`, which yields raw strings\n",
        "loss, accuracy = export_model.evaluate(raw_val_ds)\n",
        "print(accuracy)"
      ]
    },
    {
      "cell_type": "markdown",
      "metadata": {
        "id": "TwQgoN88LoEF"
      },
      "source": [
        "### Inference on new data\n",
        "\n",
        "To get predictions for new examples, you can simply call `model.predict()`."
      ]
    },
    {
      "cell_type": "code",
      "source": [
        "import numpy as np"
      ],
      "metadata": {
        "id": "Phe8a8sQef1k"
      },
      "execution_count": 123,
      "outputs": []
    },
    {
      "cell_type": "code",
      "execution_count": 124,
      "metadata": {
        "id": "QW355HH5L49K",
        "outputId": "6cf528bb-74e9-461d-e042-10d46242996b",
        "colab": {
          "base_uri": "https://localhost:8080/"
        }
      },
      "outputs": [
        {
          "output_type": "stream",
          "name": "stdout",
          "text": [
            "1/1 [==============================] - 0s 107ms/step\n",
            "بهداشت و سلامت\n",
            "ورزش\n",
            "جغرافیا و مکانها\n"
          ]
        }
      ],
      "source": [
        "examples = [\n",
        "  \"ویروس کرونا جان خیلی ها را گرفت\",\n",
        "  \"فوتبال نوجوانان کشور با نتیجه 2 بر 0 به پایان رسید.\",\n",
        "  \"تهران پایخت ایران است.\"\n",
        "]\n",
        "\n",
        "p = export_model.predict(examples)\n",
        "results = np.argmax(p, axis=1)\n",
        "\n",
        "for r in results:\n",
        "  print(raw_train_ds.class_names[r])"
      ]
    },
    {
      "cell_type": "markdown",
      "source": [
        "## Confusion matrix"
      ],
      "metadata": {
        "id": "1uIT-BjRzboE"
      }
    },
    {
      "cell_type": "code",
      "source": [
        "features = raw_val_ds.map(lambda x, y: x)\n",
        "labels = raw_val_ds.map(lambda x, y: y)"
      ],
      "metadata": {
        "id": "EDAZrUkizlE5"
      },
      "execution_count": 125,
      "outputs": []
    },
    {
      "cell_type": "code",
      "source": [
        "predictions = export_model.predict(features)\n",
        "predicted_classes = tf.math.argmax(predictions, axis=-1)"
      ],
      "metadata": {
        "colab": {
          "base_uri": "https://localhost:8080/"
        },
        "id": "bFDceDRP0Fln",
        "outputId": "00051f00-9ee5-44f7-d1f4-f90d91247512"
      },
      "execution_count": 126,
      "outputs": [
        {
          "output_type": "stream",
          "name": "stdout",
          "text": [
            "235/235 [==============================] - 1s 3ms/step\n"
          ]
        }
      ]
    },
    {
      "cell_type": "code",
      "source": [
        "# Get the actual data from the MapDataset object\n",
        "labels_list = list(labels.as_numpy_iterator())\n",
        "\n",
        "# Flatten the batched labels\n",
        "labels = np.concatenate(labels_list, axis=0)"
      ],
      "metadata": {
        "id": "dgA7adbq2RDW"
      },
      "execution_count": 127,
      "outputs": []
    },
    {
      "cell_type": "code",
      "source": [
        "confusion_mtx = tf.math.confusion_matrix(labels, predicted_classes)\n",
        "confusion_mtx"
      ],
      "metadata": {
        "colab": {
          "base_uri": "https://localhost:8080/"
        },
        "id": "jFOQiPbW0ka0",
        "outputId": "ff8db9f2-cc87-4c76-cc0e-15a511740664"
      },
      "execution_count": 128,
      "outputs": [
        {
          "output_type": "execute_result",
          "data": {
            "text/plain": [
              "<tf.Tensor: shape=(6, 6), dtype=int32, numpy=\n",
              "array([[  24,  229,    4,    3,   66,   56],\n",
              "       [ 209, 2555,   67,   53,  823,  729],\n",
              "       [   4,   57,    2,    1,   27,   18],\n",
              "       [   2,   38,    1,    0,   11,    9],\n",
              "       [  74,  797,   20,   10,  189,  225],\n",
              "       [  58,  720,   21,    8,  219,  185]], dtype=int32)>"
            ]
          },
          "metadata": {},
          "execution_count": 128
        }
      ]
    },
    {
      "cell_type": "code",
      "source": [
        "!pip install arabic_reshaper\n",
        "!pip install python-bidi"
      ],
      "metadata": {
        "colab": {
          "base_uri": "https://localhost:8080/"
        },
        "id": "zstOpPdB7Ml9",
        "outputId": "61ce7b49-0aac-49ff-9353-6940d878c887"
      },
      "execution_count": 129,
      "outputs": [
        {
          "output_type": "stream",
          "name": "stdout",
          "text": [
            "Requirement already satisfied: arabic_reshaper in /usr/local/lib/python3.10/dist-packages (3.0.0)\n"
          ]
        }
      ]
    },
    {
      "cell_type": "code",
      "source": [
        "import arabic_reshaper\n",
        "from bidi.algorithm import get_display\n",
        "\n",
        "def convert_text(t):\n",
        "    reshaped_text = arabic_reshaper.reshape(t) # seperated chars problem\n",
        "    bidi_text = get_display(reshaped_text) #direction problem\n",
        "    text = bidi_text.encode().decode('utf-8') #encoding problem (rectangular boxes!)\n",
        "    return text\n",
        "\n",
        "class_names = [convert_text(t) for t in raw_train_ds.class_names]\n",
        "\n",
        "sns.heatmap(confusion_mtx, annot=True, fmt='d', cmap='Blues')\n",
        "plt.xlabel('Predicted')\n",
        "plt.ylabel('Actual')\n",
        "plt.xticks(np.arange(len(class_names))+0.5, class_names, rotation=45)\n",
        "plt.yticks(np.arange(len(class_names))+0.5, class_names, rotation=0)\n",
        "\n",
        "plt.show()\n"
      ],
      "metadata": {
        "colab": {
          "base_uri": "https://localhost:8080/",
          "height": 610
        },
        "id": "Kd-rKMFP9HWk",
        "outputId": "1d6acb76-c64f-4e8f-b928-aa12b2d77974"
      },
      "execution_count": 130,
      "outputs": [
        {
          "output_type": "display_data",
          "data": {
            "text/plain": [
              "<Figure size 640x480 with 2 Axes>"
            ],
            "image/png": "[encoded data removed]"
          },
          "metadata": {}
        }
      ]
    },
    {
      "cell_type": "code",
      "source": [
        "from sklearn.metrics import classification_report\n",
        "report = classification_report(labels, predicted_classes)\n",
        "\n",
        "for i in range(6):\n",
        "  print(\"Label {} corresponds to {}\".format(i, raw_train_ds.class_names[i]))\n",
        "print(report)"
      ],
      "metadata": {
        "id": "4KM2nndX_TxU",
        "outputId": "40eddd81-42bd-460a-e00a-adf0a3b8afee",
        "colab": {
          "base_uri": "https://localhost:8080/"
        }
      },
      "execution_count": 131,
      "outputs": [
        {
          "output_type": "stream",
          "name": "stdout",
          "text": [
            "Label 0 corresponds to بهداشت و سلامت\n",
            "Label 1 corresponds to جغرافیا و مکانها\n",
            "Label 2 corresponds to دین و اعتقاد\n",
            "Label 3 corresponds to ریاضیات\n",
            "Label 4 corresponds to فناوری و علوم کاربردی و تکنولوژی\n",
            "Label 5 corresponds to ورزش\n",
            "              precision    recall  f1-score   support\n",
            "\n",
            "           0       0.06      0.06      0.06       382\n",
            "           1       0.58      0.58      0.58      4436\n",
            "           2       0.02      0.02      0.02       109\n",
            "           3       0.00      0.00      0.00        61\n",
            "           4       0.14      0.14      0.14      1315\n",
            "           5       0.15      0.15      0.15      1211\n",
            "\n",
            "    accuracy                           0.39      7514\n",
            "   macro avg       0.16      0.16      0.16      7514\n",
            "weighted avg       0.40      0.39      0.39      7514\n",
            "\n"
          ]
        }
      ]
    },
    {
      "cell_type": "code",
      "source": [],
      "metadata": {
        "id": "cKXJ0Wnx_WAu"
      },
      "execution_count": null,
      "outputs": []
    }
  ],
  "metadata": {
    "accelerator": "GPU",
    "colab": {
      "name": "text_classification.ipynb",
      "provenance": [],
      "gpuType": "T4"
    },
    "kernelspec": {
      "display_name": "Python 3",
      "name": "python3"
    }
  },
  "nbformat": 4,
  "nbformat_minor": 0
}